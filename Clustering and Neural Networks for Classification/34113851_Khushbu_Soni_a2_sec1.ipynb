{
  "nbformat": 4,
  "nbformat_minor": 0,
  "metadata": {
    "colab": {
      "provenance": []
    },
    "kernelspec": {
      "name": "python3",
      "display_name": "Python 3"
    },
    "language_info": {
      "name": "python"
    }
  },
  "cells": [
    {
      "cell_type": "markdown",
      "source": [
        "## Q 1.1 Expectation Maximisation"
      ],
      "metadata": {
        "id": "WNBwya7jMOin"
      }
    },
    {
      "cell_type": "markdown",
      "source": [
        "For **complete data**:\n",
        "1) Here assume documents use $\\left\\{d_1, d_x\\right\\}$ and their corresponding latent variables are $\\left\\{z_1, \\ldots z_N\\right\\}$.\n",
        "$$\n",
        "P\\left(d_1, z_1, \\ldots, d_v, z_N\\right)=\\prod_{n=1}^N \\prod_{K=1}^K\\left(Q k_n \\prod_{w \\in A} u_{K_{n, w}}^{c(w, d)^Z_{n_k}}\\right)\n",
        "$$\n",
        "where $z_n=\\left(z_{n_1}, \\ldots, z_{n_k}\\right)$\n",
        "$\\rightarrow$ The log-likelihood is:\n",
        "$$\n",
        "\\begin{aligned}\n",
        "& \\ln P\\left(d_1, z_1, \\ldots . d d_N, z_n\\right)= \\\\\n",
        "& \\quad \\sum_{n=1}^N \\sum_{k=1}^K z_{n, k}\\left(\\ln \\Phi_{k_n}+\\sum_{\\omega \\in R}\\left((\\omega, d) \\ln \\mu_{k n}\\right)\\right.\n",
        "\\end{aligned}\n",
        "$$\n",
        "$\\rightarrow$ So after maximizing loy-likelihood the parametar\n",
        "$$\n",
        "Q_k=\\frac{N_k}{N} \\text { where } N_k=\\sum_{n=1}^N Z_{n k}\n",
        "$$\n",
        "\n",
        "The word proportion parameters for each cluster:\n",
        "$$\n",
        "\\mu_{k, w}=\\frac{\\sum_{n=1}^N z_{n, k} C\\left(w, d_n\\right)}{\\sum_{w \\in A} \\sum_{n=1}^{\\infty} z_{n, k} C\\left(w^{\\prime}, d_n\\right)}\n",
        "$$"
      ],
      "metadata": {
        "id": "XY1G7xIubXrx"
      }
    },
    {
      "cell_type": "markdown",
      "source": [
        "$\\rightarrow$ For **incomplete date**:\n",
        "Here, document clusters are not given, so Zn is latent, so the probability of observed document is\n",
        "$$\n",
        "\\begin{aligned}\n",
        "p\\left(d_1, \\ldots d_N\\right) & =\\prod_{n=1}^N p\\left(d_n\\right) \\\\\n",
        "& =\\prod_{n=1}^N \\sum_{k=1}^K p\\left(z_{n, k}=1, d_n\\right) \\\\\n",
        "& =\\prod_{n=1}^N \\sum_{k=1}^K\\left(a_k \\prod_{w \\in A} \\mu_{k, w}^{c\\left(w, d_n\\right)}\\right)\n",
        "\\end{aligned}\n",
        "$$\n",
        "- So the log-likelihood is:\n",
        "$$\n",
        "\\begin{aligned}\n",
        "& \\text { So the log-likelihood is: } \\\\\n",
        "& \\begin{aligned}\n",
        "\\ln p\\left(d_1, \\ldots d_N\\right) & =\\sum_{n=1}^N \\ln p\\left(d_n\\right) \\\\\n",
        "& =\\sum_{n=1}^N \\ln \\sum_{k=1}^K p\\left(Z_{n, k}=1, d_n\\right) \\\\\n",
        "& =\\sum_{n=1}^N \\ln \\sum_{k=1}^K\\left(Q_k \\prod_{w \\in A} \\mu_{k, w}^{c\\left(w, d_n\\right)}\\right)\n",
        "\\end{aligned}\n",
        "\\end{aligned}\n",
        "$$\n",
        "$\\rightarrow$ Where, $Q$ is probability vector of size $K$, $\\mu_k$ is word proportion\n",
        "$\\sum_{\\omega \\in A} \\mu_{k, w}=1$ is word proportion vector,\n",
        "$C(w, d)$ is number of occurences of word $d W$ in document $d$."
      ],
      "metadata": {
        "id": "xyUwWn2zhD2g"
      }
    },
    {
      "cell_type": "markdown",
      "source": [
        "$\\rightarrow$ Without class labels, direct optimization is hard because the likelihood function involves sums inside the algorithms ( $\\log$ of sums), which is difficult to optimize directly.\n",
        "\n",
        "2) The Expectation - Maximization (EM) algorithms is a two-step iterative method used to estimate model parameters when data includes unobserved variables:\n",
        "- Expectation-step (E-step): calculate the probarbilities of the latent variables based on the observed data and current parameter estimates\n",
        "- Maximization-step: update the model parameter to maximise the likelihood of the date given the probabilities estimated in the E-step.\n",
        "- This process repeats untill the parameters converge, effectively handling incomplete date."
      ],
      "metadata": {
        "id": "_PImYmWsjbWa"
      }
    },
    {
      "cell_type": "markdown",
      "source": [
        "## Q 1.2 Expectation and Maximization steps of the (soft)-EM algorithm for Document Clustering"
      ],
      "metadata": {
        "id": "8b3MDbudgyXp"
      }
    },
    {
      "cell_type": "markdown",
      "source": [
        "Q-1.2\n",
        "\n",
        "The loy-likelihood function of document cluster probability is:\n",
        "\n",
        "\\begin{aligned}\n",
        "\\ln p\\left(d_1, \\ldots d n\\right) & =\\sum_{n=1}^N \\ln p\\left(d_n\\right) \\\\\n",
        "& =\\sum_{n=1}^N \\ln \\sum_{k=1}^k p\\left(z_{n, k}=1, d_n\\right) \\\\\n",
        "& =\\sum_{n=1}^N \\ln \\sum_{k=1}^k\\left(\\phi_k \\prod_{w \\in A} \\mu_{k, w}^{c(w, d)}\\right)\n",
        "\\end{aligned}\n",
        "\n",
        "Now, Q function for EM algorithm;\n",
        "\n",
        "\\begin{aligned}\n",
        "& Q\\left(\\theta, \\theta^{\\text {old }}\\right)= \\sum_{n=1}^N \\sum_{k=1}^k p\\left(z_{n, k}=1 / d_n, \\theta^{\\text {old }}\\right) \\ln p\\left(z_{n, k}=1, d_n ,\\theta\\right) \\\\\n",
        "&= \\sum_{n=1}^N \\sum_{k=1}^k p\\left(z_{n, k}=1 \\mid d_n, \\theta^{\\text {old }}\\right) \\\\\n",
        "& \\quad\\left(\\ln \\Phi_k+\\sum_{w \\in A} c\\left(w, d_d \\ln \\mu_k, w\\right)\\right. \\\\\n",
        "&=\\left.\\sum_{n=1}^N \\sum_{k=1}^k r\\left(z_{n, k}\\right)\\left(\\ln \\phi_k+\\sum_{w \\in A} c\\left(w, d_n\\right) \\ln  \\mu_k, w\\right)\\right)\n",
        "\\end{aligned}\n",
        "\n",
        "where $\\theta=\\left(0, \\mu_1, \\ldots \\mu_k\\right)$ is collection of model parameter."
      ],
      "metadata": {
        "id": "uyAxpJ-ojlO3"
      }
    },
    {
      "cell_type": "markdown",
      "source": [
        "\\documentclass{article}\n",
        "\n",
        "\\begin{document}\n",
        "\n",
        "$$\n",
        "r(Z_{n,k}) = P(Z_{m,k} = 1 | d_m, \\theta^{\\text{old}}) \\text{ (responsibility factors)}\n",
        "$$\n",
        "\n",
        "- Here, the maximising components:\n",
        "  $$\n",
        "  \\Phi_k = \\frac{N_k}{N} \\quad \\text{where } N_k = \\sum_{n=1}^{N} r(Z_{n,k})\n",
        "  $$\n",
        "\n",
        "- The word proportion parameters for each cluster:\n",
        "  $$\n",
        "  \\mu_{k,w} = \\frac{\\sum_{n=1}^{N} r(Z_{n,k}) \\cdot c(w,d_n)}{\\sum_{w' \\in A} \\sum_{n=1}^{N} r(Z_{n,k}) \\cdot c(w',d_n)}\n",
        "  $$\n",
        "\n",
        "- Choose the initial setting of parameters. While the convergence is not met:\n",
        "  $$\n",
        "  \\theta^{\\text{old}} = (\\Phi^{\\text{old}}, \\mu^{\\text{old}}, N_k^{\\text{old}})\n",
        "  $$\n",
        "\n",
        "  E-step: Set $\\forall n, \\forall k: r(Z_{n,k})$ based on $\\theta^{\\text{old}}$\n",
        "\n",
        "  M-step: Set $\\theta^{\\text{new}}$ based on $\\forall n, \\forall k: r(Z_{n,k})$\n",
        "  $$\n",
        "  \\theta^{\\text{old}} \\leftarrow \\theta^{\\text{new}}\n",
        "  $$\n",
        "\n",
        "- E-step: Posterior probability of the cluster assignment:\n",
        "  $$\n",
        "  r(Z_{n,k}) = \\frac{\\Phi_k \\prod_{w \\in d} \\mu_{k,w}^{c(w,d)}}{\\sum_{j=1}^{K} \\Phi_j \\prod_{w \\in d} \\mu_{j,w}^{c(w,d)}}\n",
        "  $$\n",
        "\n",
        "\\end{document}\n"
      ],
      "metadata": {
        "id": "mJHJmyuOdDRd"
      }
    },
    {
      "cell_type": "markdown",
      "source": [
        "M:-step: $\\rightarrow$ update the parameters:\n",
        "$$\n",
        "\\Phi_k=\\frac{\\sum_{d \\in D} \\gamma\\left(z_{d, k}\\right)}{\\sum d_{d \\in D} \\gamma\\left(z_{d, k}\\right) \\sum_{w^{\\prime} \\in V} c\\left(w^{\\prime}, d\\right)}\n",
        "$$\n",
        "$D=$ total number of Document.\n",
        "$V=$ vocubulury."
      ],
      "metadata": {
        "id": "phiNJM38cl4u"
      }
    },
    {
      "cell_type": "code",
      "execution_count": 18,
      "metadata": {
        "colab": {
          "base_uri": "https://localhost:8080/",
          "height": 0
        },
        "id": "Uqjv6OOZ9BQe",
        "outputId": "08979a7a-34b4-4ec3-ca68-ba64fa930334"
      },
      "outputs": [
        {
          "output_type": "stream",
          "name": "stdout",
          "text": [
            "Drive already mounted at /content/drive; to attempt to forcibly remount, call drive.mount(\"/content/drive\", force_remount=True).\n"
          ]
        }
      ],
      "source": [
        "# from google.colab import drive\n",
        "from google.colab import drive\n",
        "drive.mount('/content/drive')\n"
      ]
    },
    {
      "cell_type": "markdown",
      "source": [
        "## Q 1.3 Load the data"
      ],
      "metadata": {
        "id": "LB0rxnimhVyp"
      }
    },
    {
      "cell_type": "code",
      "source": [
        "import pandas as pd\n",
        "import numpy as np\n",
        "from sklearn.feature_extraction.text import TfidfVectorizer\n",
        "from sklearn.preprocessing import normalize\n",
        "\n",
        "with open(\"/content/drive/MyDrive/Task2A.txt\", 'r') as file:\n",
        "    text = file.readlines()\n",
        "all([length == 2 for length in [len(line.split('\\t')) for line in text]])\n",
        "labels, articles = [line.split('\\t')[0].strip() for line in text], [line.split('\\t')[1].strip() for line in text]\n",
        "docs = pd.DataFrame(data = zip(labels,articles), columns=['label', 'article'])\n",
        "docs.label = docs.label.astype('category')\n",
        "docs.head()"
      ],
      "metadata": {
        "colab": {
          "base_uri": "https://localhost:8080/",
          "height": 206
        },
        "id": "R0kf9IxR9uRN",
        "outputId": "967d2006-e28b-4877-b14a-07401d9ff194"
      },
      "execution_count": 19,
      "outputs": [
        {
          "output_type": "execute_result",
          "data": {
            "text/plain": [
              "       label                                            article\n",
              "0  sci.crypt  ripem frequently asked questions archive name ...\n",
              "1  sci.crypt  ripem frequently asked questions archive name ...\n",
              "2  sci.crypt  ripem frequently noted vulnerabilities archive...\n",
              "3  sci.crypt  certifying authority question answered if you ...\n",
              "4  sci.crypt  rubber hose cryptanalysis some sick part of me..."
            ],
            "text/html": [
              "\n",
              "  <div id=\"df-ac713a44-a462-4c25-8d3d-3dfeea4fc4de\" class=\"colab-df-container\">\n",
              "    <div>\n",
              "<style scoped>\n",
              "    .dataframe tbody tr th:only-of-type {\n",
              "        vertical-align: middle;\n",
              "    }\n",
              "\n",
              "    .dataframe tbody tr th {\n",
              "        vertical-align: top;\n",
              "    }\n",
              "\n",
              "    .dataframe thead th {\n",
              "        text-align: right;\n",
              "    }\n",
              "</style>\n",
              "<table border=\"1\" class=\"dataframe\">\n",
              "  <thead>\n",
              "    <tr style=\"text-align: right;\">\n",
              "      <th></th>\n",
              "      <th>label</th>\n",
              "      <th>article</th>\n",
              "    </tr>\n",
              "  </thead>\n",
              "  <tbody>\n",
              "    <tr>\n",
              "      <th>0</th>\n",
              "      <td>sci.crypt</td>\n",
              "      <td>ripem frequently asked questions archive name ...</td>\n",
              "    </tr>\n",
              "    <tr>\n",
              "      <th>1</th>\n",
              "      <td>sci.crypt</td>\n",
              "      <td>ripem frequently asked questions archive name ...</td>\n",
              "    </tr>\n",
              "    <tr>\n",
              "      <th>2</th>\n",
              "      <td>sci.crypt</td>\n",
              "      <td>ripem frequently noted vulnerabilities archive...</td>\n",
              "    </tr>\n",
              "    <tr>\n",
              "      <th>3</th>\n",
              "      <td>sci.crypt</td>\n",
              "      <td>certifying authority question answered if you ...</td>\n",
              "    </tr>\n",
              "    <tr>\n",
              "      <th>4</th>\n",
              "      <td>sci.crypt</td>\n",
              "      <td>rubber hose cryptanalysis some sick part of me...</td>\n",
              "    </tr>\n",
              "  </tbody>\n",
              "</table>\n",
              "</div>\n",
              "    <div class=\"colab-df-buttons\">\n",
              "\n",
              "  <div class=\"colab-df-container\">\n",
              "    <button class=\"colab-df-convert\" onclick=\"convertToInteractive('df-ac713a44-a462-4c25-8d3d-3dfeea4fc4de')\"\n",
              "            title=\"Convert this dataframe to an interactive table.\"\n",
              "            style=\"display:none;\">\n",
              "\n",
              "  <svg xmlns=\"http://www.w3.org/2000/svg\" height=\"24px\" viewBox=\"0 -960 960 960\">\n",
              "    <path d=\"M120-120v-720h720v720H120Zm60-500h600v-160H180v160Zm220 220h160v-160H400v160Zm0 220h160v-160H400v160ZM180-400h160v-160H180v160Zm440 0h160v-160H620v160ZM180-180h160v-160H180v160Zm440 0h160v-160H620v160Z\"/>\n",
              "  </svg>\n",
              "    </button>\n",
              "\n",
              "  <style>\n",
              "    .colab-df-container {\n",
              "      display:flex;\n",
              "      gap: 12px;\n",
              "    }\n",
              "\n",
              "    .colab-df-convert {\n",
              "      background-color: #E8F0FE;\n",
              "      border: none;\n",
              "      border-radius: 50%;\n",
              "      cursor: pointer;\n",
              "      display: none;\n",
              "      fill: #1967D2;\n",
              "      height: 32px;\n",
              "      padding: 0 0 0 0;\n",
              "      width: 32px;\n",
              "    }\n",
              "\n",
              "    .colab-df-convert:hover {\n",
              "      background-color: #E2EBFA;\n",
              "      box-shadow: 0px 1px 2px rgba(60, 64, 67, 0.3), 0px 1px 3px 1px rgba(60, 64, 67, 0.15);\n",
              "      fill: #174EA6;\n",
              "    }\n",
              "\n",
              "    .colab-df-buttons div {\n",
              "      margin-bottom: 4px;\n",
              "    }\n",
              "\n",
              "    [theme=dark] .colab-df-convert {\n",
              "      background-color: #3B4455;\n",
              "      fill: #D2E3FC;\n",
              "    }\n",
              "\n",
              "    [theme=dark] .colab-df-convert:hover {\n",
              "      background-color: #434B5C;\n",
              "      box-shadow: 0px 1px 3px 1px rgba(0, 0, 0, 0.15);\n",
              "      filter: drop-shadow(0px 1px 2px rgba(0, 0, 0, 0.3));\n",
              "      fill: #FFFFFF;\n",
              "    }\n",
              "  </style>\n",
              "\n",
              "    <script>\n",
              "      const buttonEl =\n",
              "        document.querySelector('#df-ac713a44-a462-4c25-8d3d-3dfeea4fc4de button.colab-df-convert');\n",
              "      buttonEl.style.display =\n",
              "        google.colab.kernel.accessAllowed ? 'block' : 'none';\n",
              "\n",
              "      async function convertToInteractive(key) {\n",
              "        const element = document.querySelector('#df-ac713a44-a462-4c25-8d3d-3dfeea4fc4de');\n",
              "        const dataTable =\n",
              "          await google.colab.kernel.invokeFunction('convertToInteractive',\n",
              "                                                    [key], {});\n",
              "        if (!dataTable) return;\n",
              "\n",
              "        const docLinkHtml = 'Like what you see? Visit the ' +\n",
              "          '<a target=\"_blank\" href=https://colab.research.google.com/notebooks/data_table.ipynb>data table notebook</a>'\n",
              "          + ' to learn more about interactive tables.';\n",
              "        element.innerHTML = '';\n",
              "        dataTable['output_type'] = 'display_data';\n",
              "        await google.colab.output.renderOutput(dataTable, element);\n",
              "        const docLink = document.createElement('div');\n",
              "        docLink.innerHTML = docLinkHtml;\n",
              "        element.appendChild(docLink);\n",
              "      }\n",
              "    </script>\n",
              "  </div>\n",
              "\n",
              "\n",
              "<div id=\"df-2c9662b6-266e-4375-99a9-024c08d995ca\">\n",
              "  <button class=\"colab-df-quickchart\" onclick=\"quickchart('df-2c9662b6-266e-4375-99a9-024c08d995ca')\"\n",
              "            title=\"Suggest charts\"\n",
              "            style=\"display:none;\">\n",
              "\n",
              "<svg xmlns=\"http://www.w3.org/2000/svg\" height=\"24px\"viewBox=\"0 0 24 24\"\n",
              "     width=\"24px\">\n",
              "    <g>\n",
              "        <path d=\"M19 3H5c-1.1 0-2 .9-2 2v14c0 1.1.9 2 2 2h14c1.1 0 2-.9 2-2V5c0-1.1-.9-2-2-2zM9 17H7v-7h2v7zm4 0h-2V7h2v10zm4 0h-2v-4h2v4z\"/>\n",
              "    </g>\n",
              "</svg>\n",
              "  </button>\n",
              "\n",
              "<style>\n",
              "  .colab-df-quickchart {\n",
              "      --bg-color: #E8F0FE;\n",
              "      --fill-color: #1967D2;\n",
              "      --hover-bg-color: #E2EBFA;\n",
              "      --hover-fill-color: #174EA6;\n",
              "      --disabled-fill-color: #AAA;\n",
              "      --disabled-bg-color: #DDD;\n",
              "  }\n",
              "\n",
              "  [theme=dark] .colab-df-quickchart {\n",
              "      --bg-color: #3B4455;\n",
              "      --fill-color: #D2E3FC;\n",
              "      --hover-bg-color: #434B5C;\n",
              "      --hover-fill-color: #FFFFFF;\n",
              "      --disabled-bg-color: #3B4455;\n",
              "      --disabled-fill-color: #666;\n",
              "  }\n",
              "\n",
              "  .colab-df-quickchart {\n",
              "    background-color: var(--bg-color);\n",
              "    border: none;\n",
              "    border-radius: 50%;\n",
              "    cursor: pointer;\n",
              "    display: none;\n",
              "    fill: var(--fill-color);\n",
              "    height: 32px;\n",
              "    padding: 0;\n",
              "    width: 32px;\n",
              "  }\n",
              "\n",
              "  .colab-df-quickchart:hover {\n",
              "    background-color: var(--hover-bg-color);\n",
              "    box-shadow: 0 1px 2px rgba(60, 64, 67, 0.3), 0 1px 3px 1px rgba(60, 64, 67, 0.15);\n",
              "    fill: var(--button-hover-fill-color);\n",
              "  }\n",
              "\n",
              "  .colab-df-quickchart-complete:disabled,\n",
              "  .colab-df-quickchart-complete:disabled:hover {\n",
              "    background-color: var(--disabled-bg-color);\n",
              "    fill: var(--disabled-fill-color);\n",
              "    box-shadow: none;\n",
              "  }\n",
              "\n",
              "  .colab-df-spinner {\n",
              "    border: 2px solid var(--fill-color);\n",
              "    border-color: transparent;\n",
              "    border-bottom-color: var(--fill-color);\n",
              "    animation:\n",
              "      spin 1s steps(1) infinite;\n",
              "  }\n",
              "\n",
              "  @keyframes spin {\n",
              "    0% {\n",
              "      border-color: transparent;\n",
              "      border-bottom-color: var(--fill-color);\n",
              "      border-left-color: var(--fill-color);\n",
              "    }\n",
              "    20% {\n",
              "      border-color: transparent;\n",
              "      border-left-color: var(--fill-color);\n",
              "      border-top-color: var(--fill-color);\n",
              "    }\n",
              "    30% {\n",
              "      border-color: transparent;\n",
              "      border-left-color: var(--fill-color);\n",
              "      border-top-color: var(--fill-color);\n",
              "      border-right-color: var(--fill-color);\n",
              "    }\n",
              "    40% {\n",
              "      border-color: transparent;\n",
              "      border-right-color: var(--fill-color);\n",
              "      border-top-color: var(--fill-color);\n",
              "    }\n",
              "    60% {\n",
              "      border-color: transparent;\n",
              "      border-right-color: var(--fill-color);\n",
              "    }\n",
              "    80% {\n",
              "      border-color: transparent;\n",
              "      border-right-color: var(--fill-color);\n",
              "      border-bottom-color: var(--fill-color);\n",
              "    }\n",
              "    90% {\n",
              "      border-color: transparent;\n",
              "      border-bottom-color: var(--fill-color);\n",
              "    }\n",
              "  }\n",
              "</style>\n",
              "\n",
              "  <script>\n",
              "    async function quickchart(key) {\n",
              "      const quickchartButtonEl =\n",
              "        document.querySelector('#' + key + ' button');\n",
              "      quickchartButtonEl.disabled = true;  // To prevent multiple clicks.\n",
              "      quickchartButtonEl.classList.add('colab-df-spinner');\n",
              "      try {\n",
              "        const charts = await google.colab.kernel.invokeFunction(\n",
              "            'suggestCharts', [key], {});\n",
              "      } catch (error) {\n",
              "        console.error('Error during call to suggestCharts:', error);\n",
              "      }\n",
              "      quickchartButtonEl.classList.remove('colab-df-spinner');\n",
              "      quickchartButtonEl.classList.add('colab-df-quickchart-complete');\n",
              "    }\n",
              "    (() => {\n",
              "      let quickchartButtonEl =\n",
              "        document.querySelector('#df-2c9662b6-266e-4375-99a9-024c08d995ca button');\n",
              "      quickchartButtonEl.style.display =\n",
              "        google.colab.kernel.accessAllowed ? 'block' : 'none';\n",
              "    })();\n",
              "  </script>\n",
              "</div>\n",
              "\n",
              "    </div>\n",
              "  </div>\n"
            ],
            "application/vnd.google.colaboratory.intrinsic+json": {
              "type": "dataframe",
              "variable_name": "docs",
              "summary": "{\n  \"name\": \"docs\",\n  \"rows\": 2373,\n  \"fields\": [\n    {\n      \"column\": \"label\",\n      \"properties\": {\n        \"dtype\": \"category\",\n        \"num_unique_values\": 4,\n        \"samples\": [\n          \"sci.electronics\",\n          \"sci.space\",\n          \"sci.crypt\"\n        ],\n        \"semantic_type\": \"\",\n        \"description\": \"\"\n      }\n    },\n    {\n      \"column\": \"article\",\n      \"properties\": {\n        \"dtype\": \"string\",\n        \"num_unique_values\": 2371,\n        \"samples\": [\n          \"re single chip receiver for fsk john ackermann x jra law daytonoh ncr com wrote my next project is to come up with an if detector module for fast to kb sec packet radio use no fancy modulation scheme just wide fsk for use at or mhz i m a bit familiar with the motorola chip but i wonder if there are newer designs that might work at higher input frequencies my goal is to come up with an inexpensive design for a receiver back end with if input on one end and an fsk demondulator on the other i m particularly interested in ways to use a higher if than do any current chips work up to say mhz with internal downconversion so a normal if filter can be used any suggestions john what you describe is very close to what i built and described in the th arrl computer network conference proceedings i built watt fsk transceivers at mhz they are essentially double conversion transverters with digital mod and demod at mhz the receiver uses the mc which is the same fsk receiver chip i used previouslyu in the mbps ghz data link i first published in ham radio and which is now also in the arrl handbook the mc which includes a vhf converter section could also be used at these speeds there is a newer and perhaps slightly improved design of this the mc if i remember rightly while using this would have let me reduce the external if count on receive it didn t really offer all that much help on transmit so i didn t bother with it the radios i built were first designed and built for kbps in a mhz channel but later reduced to half that these kbps radios actually have done quite well in across the bench tests at kbps and speed is pretty much a function of filter design handling the data stream is another matter entirely some of the existing radios are currently deployed on hilltops in a beacon test mode while there is not yet end end two way data flow due to lack of resources to debug software for the digital hardware mio also shown in the cnc proceedings data is perfect copy at n gn even though the data clock is currently at about half speed the a kbytes of the test text chapter of isaiah takes only a little over of a second i ve been hoping that someone would get interested enough to step in and get involved in writing code to make the whole thing usable borland ide environment with remote debugging possible as mentioned in the proceedings but to date a couple of us have been on our own and running low on resources of time money and energy if anyone in the sf bay area wants to check it out there is also a cw id after the text on the mark side at mhz from beacons on sonoma mtn and black mtn overlooking si valley the antenna is horizontally polarized i guess in retrospect my suggestions are that this is a fairly costly approach if the radios are intended for users rather than backbones and you might want to carefully consider your target if you can t arrange your paths such that you have complete line of sight i think you ll want to address the inter symbol interference caused by multipath and probably link c n budgets if paths are very far from los for more details see the th cnc i m currently working on a spread spectrum direct conversion design to address some of these problems i d be glad to help as i can with any design problems glenn elmore n gn n gn k mc amateur ip glenn santarosa ampr org internet glenne sr hp com\",\n          \"re any info on vasomotor rhinitis in article r t a njq europa eng gtefsd com draper gnd wtp gtefsd com writes i recently attended an allery seminar steroid nasal sprays were discussed afterward on a one on one basis i asked the speaker what if none of the vancanese beconase nasalide nasalcort or nasalchrom work nor do any oral decongestants work she replied that she saw an article on vasomotor rhinitis that this is not an allergic reaction and that nothing other than the afrin s and such would work which in my case is true there has been some recent research on vasomotor rhinitis that shows that ipratroprium bromide atrovent inhaled nasally is an effective treatment for many sufferers it has been approved for this use and is available with a nasal adaptor in canada in the us the fda has yet to approve this use of the drug but it is available as an oral inhaler for copd and these can be adapted for intranasal use kenneth gilbert university of pittsburgh general internal medicine dammit not a programmer\",\n          \"cryptography faq technical miscellany archive name cryptography faq part last modified faq for sci crypt part technical miscellany this is the eighth of ten parts of the sci crypt faq the parts are mostly independent but you should read the first part before the rest we don t have the time to send out missing parts by mail so don t ask notes such as kah refer to the reference list in the last part the sections of this faq are available via anonymous ftp to rtfm mit edu as pub usenet news answers cryptography faq part xx the cryptography faq is posted to the newsgroups sci crypt sci answers and news answers every days contents how do i recover from lost passwords in wordperfect how do i break a vigenere repeated key cipher how do i send encrypted mail under unix pgp ripem pem is the unix crypt command secure how do i use compression with encryption is there an unbreakable cipher what does random mean in cryptography what is the unicity point a k a unicity distance what is key management and why is it important can i use pseudo random or chaotic numbers as a key stream what is the correct frequency list for english letters what is the enigma how do i shuffle cards can i foil s w pirates by encrypting my cd rom can you do automatic cryptanalysis of simple ciphers what is the coding system used by vcr how do i recover from lost passwords in wordperfect wordperfect encryption has been shown to be very easy to break the method uses xor with two repeating key streams a typed password and a byte wide counter initialized to the password length full descriptions are given in bennett ben and bergen and caelli ber chris galas writes someone awhile back was looking for a way to decrypt wordperfect document files and i think i have a solution there is a software company named accessdata east south orem ut that has a software package that will decrypt any wordperfect lotus quatro pro ms excel and paradox files the cost of the package is steep prices but if you think your pw key is less than characters or char give them a call and ask for the free demo disk the demo disk will decrypt files that have a char or less pw key how do i break a vigenere repeated key cipher a repeated key cipher where the ciphertext is something like the plaintext xor keykeykeykey and so on is called a vigenere cipher if the key is not too long and the plaintext is in english do the following discover the length of the key by counting coincidences see gaines gai sinkov sin trying each displacement of the ciphertext against itself count those bytes which are equal if the two ciphertext portions have used the same key something over of the bytes will be equal if they have used different key then less than will be equal assuming random bit bytes of key covering normal ascii text the smallest displacement which indicates an equal key is the length of the repeated key shift the text by that length and xor it with itself this removes the key and leaves you with text xored with itself since english has about bit of real information per byte streams of text xored together has bits of info per bit byte providing plenty of redundancy for choosing a unique decryption and in fact one stream of text xored with itself has just bit per byte if the key is short it might be even easier to treat this as a standard polyalphabetic substitution all the old cryptanalysis texts show how to break those it s possible with those methods in the hands of an expert if there s only ten times as much text as key see for example gaines gai sinkov sin how do i send encrypted mail under unix pgp ripem pem here s one popular method using the des command cat file compress des private key uuencode mail meanwhile there is a de jure internet standard in the works called pem privacy enhanced mail it is described in rfcs through to join the pem mailing list contact pem dev request tis com there is a beta version of pem being tested at the time of this writing there are also two programs available in the public domain for encrypting mail pgp and ripem both are available by ftp each has its own newsgroup alt security pgp and alt security ripem each has its own faq as well pgp is most commonly used outside the usa since it uses the rsa algorithm without a license and rsa s patent is valid only or at least primarily in the usa ripem is most commonly used inside the usa since it uses the rsaref which is freely available within the usa but not available for shipment outside the usa since both programs use a secret key algorithm for encrypting the body of the message pgp used idea ripem uses des and rsa for encrypting the message key they should be able to interoperate freely although there have been repeated calls for each to understand the other s formats and algorithm choices no interoperation is available at this time as far as we know is the unix crypt command secure no see ree there is a program available called cbw crypt breaker s workbench which can be used to do ciphertext only attacks on files encrypted with crypt one source for cbw is ftpcb how do i use compression with encryption a number of people have proposed doing perfect compression followed by some simple encryption method e g xor with a repeated key unfortunately you can only compress perfectly if you know the exact distribution of possible inputs for all practical purposes it s impossible to describe the typical english text beyond coarse characteristics such as single letter frequencies you can build up more and more sophisticated models of your inputs but if the enemy has a slightly more accurate model he ll be able to find some redundancy in your compressed output note that nearly all practical compression schemes unless they have been designed with cryptography in mind produce output that actually starts off with high redundancy for example the output of unix compress begins with a well known three byte magic number that can serve as an entering wedge for cryptanalysis this is not to say that compression before encryption is inherently a bad idea it just has to be done very very carefully and by no means removes the need for strong encryption compression after encryption is silly is there an unbreakable cipher yes the one time pad is unbreakable see part unfortunately the one time pad requires secure distribution of as much key material as plaintext of course a cryptosystem need not be utterly unbreakable to be useful rather it needs to be strong enough to resist attacks by likely enemies for whatever length of time the data it protects is expected to remain valid what does random mean in cryptography cryptographic applications demand much more out of a pseudorandom number generator than most applications for a source of bits to be cryptographically random it must be computationally impossible to predict what the nth random bit will be given complete knowledge of the algorithm or hardware generating the stream and the sequence of th through n st bits for all n up to the lifetime of the source a software generator also known as pseudo random has the function of expanding a truly random seed to a longer string of apparently random bits this seed must be large enough not to be guessed by the opponent ideally it should also be truly random perhaps generated by a hardware random number source those who have sparcstation workstations could for example generate random numbers using the audio input device as a source of entropy by not connecting anything to it for example cat dev audio compress foo gives a file of high entropy not random but with much randomness in it one can then encrypt that file using part of itself as a key for example to convert that seed entropy into a pseudo random string when looking for hardware devices to provide this entropy it is important really to measure the entropy rather than just assume that because it looks complicated to a human it must be random for example disk operation completion times sound like they might be unpredictable to many people but a spinning disk is much like a clock and its output completion times are relatively low in entropy what is the unicity point a k a unicity distance see sha the unicity distance is an approximation to that amount of ciphertext such that the sum of the real information entropy in the corresponding source text and encryption key equals the number of ciphertext bits used ciphertexts significantly longer than this can be shown probably to have a unique decipherment this is used to back up a claim of the validity of a ciphertext only cryptanalysis ciphertexts significantly shorter than this are likely to have multiple equally valid decryptions and therefore to gain security from the opponent s difficulty choosing the correct one unicity distance like all statistical or information theoretic measures does not make deterministic predictions but rather gives probabilistic results namely the minimum amount of ciphertext for which it is likely that there is only a single intelligible plaintext corresponding to the ciphertext when all possible keys are tried for the decryption working cryptologists don t normally deal with unicity distance as such instead they directly determine the likelihood of events of interest let the unicity distance of a cipher be d characters if fewer than d ciphertext characters have been intercepted then there is not enough information to distinguish the real key from a set of possible keys des has a unicity distance of characters which is less than ciphertext blocks each block corresponds to ascii characters this may seem alarmingly low at first but the unicity distance gives no indication of the computational work required to find the key after approximately d characters have been intercepted in fact actual cryptanalysis seldom proceeds along the lines used in discussing unicity distance like other measures such as key size unicity distance is something that guarantees insecurity if it s too small but doesn t guarantee security if it s high few practical cryptosystems are absolutely impervious to analysis all manner of characteristics might serve as entering wedges to crack some cipher messages however similar information theoretic considerations are occasionally useful for example to determine a recommended key change interval for a particular cryptosystem cryptanalysts also employ a variety of statistical and information theoretic tests to help guide the analysis in the most promising directions unfortunately most literature on the application of information statistics to cryptanalysis remains classified even the seminal work of alan turing see koz for some insight into the possibilities see kul and goo what is key management and why is it important one of the fundamental axioms of cryptography is that the enemy is in full possession of the details of the general cryptographic system and lacks only the specific key data employed in the encryption of course one would assume that the cia does not make a habit of telling mossad about its cryptosystems but mossad probably finds out anyway repeated use of a finite amount of key provides redundancy that can eventually facilitate cryptanalytic progress thus especially in modern communication systems where vast amounts of information are transferred both parties must have not only a sound cryptosystem but also enough key material to cover the traffic key management refers to the distribution authentication and handling of keys a publicly accessible example of modern key management technology is the stu iii secure telephone unit which for classified use employs individual coded crypto ignition keys and a central key management center operated by nsa there is a hierarchy in that certain ciks are used by authorized cryptographic control personnel to validate the issuance of individual traffic keys and to perform installation maintenance functions such as the reporting of lost ciks this should give an inkling of the extent of the key management problem for public key systems there are several related issues many having to do with whom do you trust can i use pseudo random or chaotic numbers as a key stream chaotic equations and fractals produce an apparent randomness from relatively compact generators perhaps the simplest example is a linear congruential sequence one of the most popular types of random number generators where there is no obvious dependence between seeds and outputs unfortunately the graph of any such sequence will in a high enough dimension show up as a regular lattice mathematically this lattice corresponds to structure which is notoriously easy for cryptanalysts to exploit more complicated generators have more complicated structure which is why they make interesting pictures but a cryptographically strong sequence will have no computable structure at all see knu exercise ree and boy what is the correct frequency list for english letters there are three answers to this question each slightly deeper than the one before you can find the first answer in various books namely a frequency list computed directly from a certain sample of english text of course any such list will be correctly computed but exactly which list you get depends on which sample was taken the second answer is that the question doesn t make sense what do you mean by english letters the english language is not a fixed finite closed object that can be exactly characterized it has changed over time it is different between different authors any particular message will have different statistics from those of the language as a whole the third answer is that yes no particular message is going to have exactly the same characteristics as english in general but for all reasonable statistical uses these slight discrepancies won t matter in fact there s an entire field called bayesian statistics other buzzwords are maximum entropy methods and maximum likelihood estimation which studies questions like what s the chance that a text with these letter frequencies is in english and comes up with reasonably robust answers so make your own list from your own samples of english text it will be good enough for practical work if you use it properly what is the enigma for a project in data security we are looking for sources of information about the german enigma code and how it was broken by the british during wwii see wel dea koz hod kah how do i shuffle cards card shuffling is a special case of the permutation of an array of values using a random or pseudo random function all possible output permutations of this process should be equally likely to do this you need a random function modran x which will produce a uniformly distributed random integer in the interval x given that function you can shuffle with the following c code assuming arrlth is the length of array arr and swap interchanges values at the two addresses given for n arrlth n n swap arr modran n arr n modran x can not be achieved exactly with a simple ranno x since ranno s interval may not be divisible by x although in most cases the error will be very small to cover this case one can take ranno s modulus mod x call that number y and if ranno returns a value less than y go back and get another ranno value can i foil s w pirates by encrypting my cd rom someone will frequently express the desire to publish a cd rom with possibly multiple pieces of software perhaps with each encrypted separately and will want to use different keys for each user perhaps even good for only a limited period of time in order to avoid piracy as far as we know this is impossible since there is nothing in standard pc or workstation hardware which uniquely identifies the user at the keyboard if there were such an identification then the cd rom could be encrypted with a key based in part on the one sold to the user and in part on the unique identifier however in this case the cd rom is one of a kind and that defeats the intended purpose if the cd rom is to be encrypted once and then mass produced there must be a key or set of keys for that encryption produced at some stage in the process that key is useable with any copy of the cd rom s data the pirate needs only to isolate that key and sell it along with the illegal copy can you do automatic cryptanalysis of simple ciphers schneier chinet chi il us bruce schneier says accessdata of orem utah sells products that break the password scheme of a number of popular macintosh and pc software packages their telephone number is no pd software has been cited but there are many papers on the subject peleg s and rosenfeld a breaking substitution ciphers using a relaxation algorithm comm acm vol pp nov lucks michael a constraint satisfaction algorithm for the automated decryption of simple substitution ciphers advances in cryptology crypto springer lecture notes in computer science vol the paper also contains references to earlier work on the subject john carrol and steve martin the automated cryptanalysis of substitution ciphers cryptologia vol x number oct p john carrol and lynda robbins automated cryptanalysis of polyalphabetic ciphers cryptologia vol xi number oct p martin kochanski a survey of data insecurity packages cryptologia vol xi number jan p martin kochanski another data insecurity package cryptologia vol xii number july p cryptologia vol xiii number pp king and bahler probabilistic relaxation in the cryptanalysis of simple substitution ciphers cryptologia king and bahler an algorithmic solution of sequential homophonic ciphers cryptologia april in press r spillman et al use of genetic algorithms in cryptanalysis of simple substitution ciphers cryptologia vol xvii number jan p what is the coding system used by vcr one very frequently asked question in sci crypt is about how the vcr codes work the following article attempts to describe it k shirriff c welch a kinsman decoding a vcr controller code cryptologia july pp\"\n        ],\n        \"semantic_type\": \"\",\n        \"description\": \"\"\n      }\n    }\n  ]\n}"
            }
          },
          "metadata": {},
          "execution_count": 19
        }
      ]
    },
    {
      "cell_type": "markdown",
      "source": [
        "## Q 1.4 Implement the EM algorithm"
      ],
      "metadata": {
        "id": "MLTYuue2hZze"
      }
    },
    {
      "cell_type": "code",
      "source": [
        "# Create a DataFrame\n",
        "docs = pd.DataFrame(data=zip(labels, articles), columns=['label', 'article'])\n",
        "docs['label'] = docs['label'].astype('category')\n",
        "\n",
        "# Convert the articles into TF-IDF vectors\n",
        "vectorizer = TfidfVectorizer(stop_words='english', max_features=500)\n",
        "X = vectorizer.fit_transform(docs['article']).toarray()\n",
        "\n",
        "# Normalize the data\n",
        "X = normalize(X)"
      ],
      "metadata": {
        "id": "WXy5Ncn0trZ_"
      },
      "execution_count": 20,
      "outputs": []
    },
    {
      "cell_type": "code",
      "source": [
        "import numpy as np\n",
        "\n",
        "class SoftDocumentClustering:\n",
        "    def __init__(self, K, tau_max=200, epsilon=0.01, random_state=None):\n",
        "        self.K = K\n",
        "        self.tau_max = tau_max\n",
        "        self.epsilon = epsilon\n",
        "        self.random_state = random_state\n",
        "        np.random.seed(self.random_state)\n",
        "\n",
        "    def log_sum_exp(self, x):\n",
        "        c = np.max(x)\n",
        "        return c + np.log(np.sum(np.exp(x - c)))\n",
        "\n",
        "    def fit(self, X, verbose=False):\n",
        "        N, D = X.shape\n",
        "        # Normalize X to prevent numerical instability in dot product\n",
        "        X = X / np.linalg.norm(X, axis=1, keepdims=True)\n",
        "\n",
        "        self.Psi_hat_ = np.ones(self.K) / self.K\n",
        "        self.Mu_hat_ = X[np.random.choice(N, self.K, replace=False)]\n",
        "        r = np.zeros((N, self.K))\n",
        "        tau = 0\n",
        "        Mu_hat_old = self.Mu_hat_.copy()\n",
        "\n",
        "        while tau < self.tau_max:\n",
        "            if verbose:\n",
        "                print(f\"Iteration {tau}\")\n",
        "\n",
        "            for k in range(self.K):\n",
        "                r[:, k] = np.dot(X, self.Mu_hat_[k])\n",
        "\n",
        "            # Fix potential divide by zero by adding a small epsilon\n",
        "            r[r == 0] = np.finfo(float).eps\n",
        "\n",
        "            for n in range(N):\n",
        "                r[n, :] = np.exp(np.log(r[n, :]) - self.log_sum_exp(np.log(r[n, :])))\n",
        "\n",
        "            Nk_hat_ = r.sum(axis=0)\n",
        "            self.Psi_hat_ = Nk_hat_ / N\n",
        "            self.Mu_hat_ = (r.T @ X) / Nk_hat_.reshape(-1, 1)\n",
        "\n",
        "            tau += 1\n",
        "            if np.allclose(self.Mu_hat_, Mu_hat_old, rtol=self.epsilon):\n",
        "                break\n",
        "            Mu_hat_old = self.Mu_hat_.copy()\n",
        "\n",
        "        if verbose:\n",
        "            print(f\"Converged in {tau} iterations\")\n",
        "\n",
        "        return self\n",
        "\n",
        "\n",
        "    def predict_proba(self, X):\n",
        "        # Predict the soft membership probabilities of each document for each cluster\n",
        "        N = X.shape[0]\n",
        "        r = np.zeros((N, self.K))\n",
        "        for k in range(self.K):\n",
        "            r[:, k] = np.dot(X, self.Mu_hat_[k])  # Cosine similarity with the centroids\n",
        "\n",
        "        # Normalize with log-sum-exp trick\n",
        "        for n in range(N):\n",
        "            r[n, :] = np.exp(np.log(r[n, :]) - self.log_sum_exp(np.log(r[n, :])))\n",
        "\n",
        "        return r\n",
        "\n",
        "    def predict(self, X):\n",
        "        r = self.predict_proba(X)\n",
        "        return np.argmax(r, axis=1)"
      ],
      "metadata": {
        "id": "5Ii5Ie6C1cEp"
      },
      "execution_count": 21,
      "outputs": []
    },
    {
      "cell_type": "code",
      "source": [
        "class HardDocumentClustering:\n",
        "    def __init__(self, K, tau_max=200, epsilon=0.01, random_state=None):\n",
        "        self.K = K  # Number of clusters\n",
        "        self.tau_max = tau_max  # Maximum number of iterations\n",
        "        self.epsilon = epsilon  # Convergence threshold\n",
        "        self.random_state = random_state\n",
        "        np.random.seed(self.random_state)\n",
        "\n",
        "    def fit(self, X, verbose=False):\n",
        "        N, D = X.shape\n",
        "        # Initialize cluster memberships and centroids\n",
        "        self.Psi_hat_ = np.ones(self.K) / self.K  # Equal cluster probabilities\n",
        "        self.Mu_hat_ = X[np.random.choice(N, self.K, replace=False)]  # Randomly choose centroids\n",
        "        z = np.zeros((N, self.K))  # Hard assignment matrix\n",
        "\n",
        "        tau = 0\n",
        "        Mu_hat_old = self.Mu_hat_.copy()\n",
        "\n",
        "        while tau < self.tau_max:\n",
        "            if verbose:\n",
        "                print(f\"Iteration {tau}\")\n",
        "\n",
        "            # E-step: Assign each document to the closest centroid (hard assignment)\n",
        "            distances = np.dot(X, self.Mu_hat_.T)  # Using cosine similarity for assignment\n",
        "            z = np.zeros_like(distances)\n",
        "            z[np.arange(N), np.argmax(distances, axis=1)] = 1  # Hard assignment\n",
        "\n",
        "            # M-step: Update cluster centroids\n",
        "            Nk_hat_ = z.sum(axis=0)  # Sum of assignments for each cluster\n",
        "            self.Mu_hat_ = (z.T @ X) / Nk_hat_.reshape(-1, 1)  # Update centroids\n",
        "\n",
        "            tau += 1\n",
        "            if np.allclose(self.Mu_hat_, Mu_hat_old, rtol=self.epsilon):\n",
        "                break\n",
        "            Mu_hat_old = self.Mu_hat_.copy()\n",
        "\n",
        "        if verbose:\n",
        "            print(f\"Converged in {tau} iterations\")\n",
        "\n",
        "        return self\n",
        "\n",
        "    def predict(self, X):\n",
        "        # Predict the cluster assignments for each document\n",
        "        distances = np.dot(X, self.Mu_hat_.T)  # Cosine similarity\n",
        "        return np.argmax(distances, axis=1)  # Assign to closest centroid\n"
      ],
      "metadata": {
        "id": "Rajt4v9YDq0R"
      },
      "execution_count": 22,
      "outputs": []
    },
    {
      "cell_type": "markdown",
      "source": [
        "## Q 1.5  clusters K=4, and run the hard and soft clustering"
      ],
      "metadata": {
        "id": "7HIBOW83iqbw"
      }
    },
    {
      "cell_type": "code",
      "source": [
        "# Set number of clusters\n",
        "K = 4\n",
        "\n",
        "# Run Soft Clustering with K=4\n",
        "soft_clustering = SoftDocumentClustering(K=K, tau_max=100, epsilon=0.01, random_state=42)\n",
        "soft_clustering.fit(X, verbose=True)\n",
        "soft_clusters = soft_clustering.predict(X)\n",
        "print(\"Soft Clustering Assignments (K=4):\")\n",
        "print(soft_clusters)\n",
        "\n",
        "# Run Hard Clustering with K=4\n",
        "hard_clustering = HardDocumentClustering(K=K, tau_max=100, epsilon=0.01, random_state=42)\n",
        "hard_clustering.fit(X, verbose=True)\n",
        "hard_clusters = hard_clustering.predict(X)\n",
        "print(\"Hard Clustering Assignments (K=4):\")\n",
        "print(hard_clusters)\n",
        "\n"
      ],
      "metadata": {
        "colab": {
          "base_uri": "https://localhost:8080/",
          "height": 0
        },
        "id": "uNgMA8nBGHQh",
        "outputId": "9277cb40-1174-4bd0-b4dd-f24dfd666252"
      },
      "execution_count": 23,
      "outputs": [
        {
          "output_type": "stream",
          "name": "stdout",
          "text": [
            "Iteration 0\n",
            "Iteration 1\n",
            "Iteration 2\n",
            "Iteration 3\n",
            "Iteration 4\n",
            "Iteration 5\n",
            "Converged in 6 iterations\n",
            "Soft Clustering Assignments (K=4):\n",
            "[2 2 2 ... 3 3 3]\n",
            "Iteration 0\n",
            "Iteration 1\n",
            "Iteration 2\n",
            "Iteration 3\n",
            "Iteration 4\n",
            "Iteration 5\n",
            "Iteration 6\n",
            "Iteration 7\n",
            "Iteration 8\n",
            "Iteration 9\n",
            "Iteration 10\n",
            "Converged in 11 iterations\n",
            "Hard Clustering Assignments (K=4):\n",
            "[2 2 2 ... 3 3 3]\n"
          ]
        }
      ]
    },
    {
      "cell_type": "markdown",
      "source": [
        "## Q 1.6 PCA on the clusterings"
      ],
      "metadata": {
        "id": "KFmNTNdiiu_K"
      }
    },
    {
      "cell_type": "code",
      "source": [
        "import matplotlib.pyplot as plt\n",
        "from sklearn.decomposition import PCA\n",
        "\n",
        "# Check soft clustering assignments\n",
        "print(\"Soft Clustering Assignments Sample: \", soft_clusters[:10])\n",
        "\n",
        "# Check hard clustering assignments\n",
        "print(\"Hard Clustering Assignments Sample: \", hard_clusters[:10])\n",
        "\n",
        "# Step 1: Perform PCA on the TF-IDF vectors (X)\n",
        "pca = PCA(n_components=2)\n",
        "X_pca = pca.fit_transform(X)\n",
        "\n",
        "# Step 2: Plotting the clusters from soft clustering\n",
        "plt.figure(figsize=(12, 6))\n",
        "plt.subplot(1, 2, 1)\n",
        "plt.title(\"Soft Clustering (K=4) - PCA Projection\")\n",
        "for cluster in range(K):\n",
        "    mask = soft_clusters == cluster\n",
        "    plt.scatter(X_pca[mask, 0], X_pca[mask, 1], label=f\"Cluster {cluster}\")\n",
        "\n",
        "plt.xlabel(\"First Principal Component\")\n",
        "plt.ylabel(\"Second Principal Component\")\n",
        "plt.legend()\n",
        "\n",
        "# Step 2: Plotting the clusters from hard clustering\n",
        "plt.subplot(1, 2, 2)\n",
        "plt.title(\"Hard Clustering (K=4) - PCA Projection\")\n",
        "for cluster in range(K):\n",
        "    mask = hard_clusters == cluster\n",
        "    plt.scatter(X_pca[mask, 0], X_pca[mask, 1], label=f\"Cluster {cluster}\")\n",
        "\n",
        "plt.xlabel(\"First Principal Component\")\n",
        "plt.ylabel(\"Second Principal Component\")\n",
        "plt.legend()\n",
        "\n",
        "plt.tight_layout()\n",
        "plt.show()\n"
      ],
      "metadata": {
        "colab": {
          "base_uri": "https://localhost:8080/",
          "height": 642
        },
        "id": "Wt-lLNkfy2X7",
        "outputId": "da798c2f-6e25-44d5-bc1a-6de32dc61f39"
      },
      "execution_count": 24,
      "outputs": [
        {
          "output_type": "stream",
          "name": "stdout",
          "text": [
            "Soft Clustering Assignments Sample:  [2 2 2 2 1 2 2 2 2 2]\n",
            "Hard Clustering Assignments Sample:  [2 2 2 2 1 2 2 2 2 2]\n"
          ]
        },
        {
          "output_type": "display_data",
          "data": {
            "text/plain": [
              "<Figure size 1200x600 with 2 Axes>"
            ],
            "image/png": "[encoded data removed]"
          },
          "metadata": {}
        }
      ]
    },
    {
      "cell_type": "markdown",
      "source": [
        "Discussion: Differences between Soft and Hard Clustering\n",
        "\n",
        "In the plots above, we visualize the clusters obtained from both soft and hard clustering using PCA. Here’s a comparison based on the visualizations:\n",
        "\n",
        "Soft Clustering:\n",
        "\n",
        "Soft clustering allows documents to have probabilities of belonging to multiple clusters. As a result, the boundaries between clusters may appear more overlapping or fuzzy.\n",
        "In the plot, we observe that points belonging to different clusters may be closer to one another, especially near the cluster boundaries, reflecting the fact that the soft EM algorithm doesn’t assign hard boundaries to clusters.\n",
        "This flexibility can be beneficial when there are documents that could logically belong to multiple clusters (e.g., documents that discuss multiple topics).\n",
        "\n",
        "Hard Clustering:\n",
        "\n",
        "Hard clustering assigns each document to exactly one cluster. As a result, the clusters appear more distinct and separated.\n",
        "In the plot, the points within each cluster tend to be more tightly grouped, with clearer boundaries between clusters.\n",
        "Hard clustering is useful when the data naturally divides into distinct groups or when there is a need for clear cluster membership.\n",
        "Overall, soft clustering provides more flexibility and is more suited for cases where documents can belong to multiple categories, whereas hard clustering enforces stricter groupings, which can be useful for clearly divided data."
      ],
      "metadata": {
        "id": "PZQGWz87CKOB"
      }
    }
  ]
}