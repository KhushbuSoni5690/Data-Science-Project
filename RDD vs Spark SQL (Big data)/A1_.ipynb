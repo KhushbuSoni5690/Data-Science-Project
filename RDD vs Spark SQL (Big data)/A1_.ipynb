{
 "cells": [
  {
   "cell_type": "markdown",
   "metadata": {},
   "source": [
    "## Analysing Food Delivery Data\n",
    "\n",
    "## Table of Contents\n",
    "* [Part 1 : Working with RDD](#part-1)  \n",
    "    - [1.1 Data Preparation and Loading](#1.1)  \n",
    "    - [1.2 Data Partitioning in RDD](#1.2)  \n",
    "    - [1.3 Query/Analysis](#1.3)  \n",
    "* [Part 2 : Working with DataFrames](#2-dataframes)  \n",
    "    - [2.1 Data Preparation and Loading](#2-dataframes)  \n",
    "    - [2.2 Query/Analysis](#2.2)  \n",
    "* [Part 3 :  RDDs vs DataFrame vs Spark SQL](#part-3)  "
   ]
  },
  {
   "cell_type": "markdown",
   "metadata": {},
   "source": [
    "# Part 1 : Working with RDDs (30%) <a class=\"anchor\" name=\"part-1\"></a>\n",
    "## 1.1 Working with RDD\n",
    "In this section, you will need to create RDDs from the given datasets, perform partitioning in these RDDs and use various RDD operations to answer the queries. \n",
    "\n",
    "1.1.1 Data Preparation and Loading <a class=\"anchor\" name=\"1.1\"></a>\n",
    "Write the code to create a SparkContext object using SparkSession. To create a SparkSession, you first need to build a SparkConf object that contains information about your application. Use Melbourne time as the session timezone. Give your application an appropriate name and run Spark locally with 4 cores on your machine."
   ]
  },
  {
   "cell_type": "code",
   "execution_count": 1,
   "metadata": {},
   "outputs": [
    {
     "name": "stdout",
     "output_type": "stream",
     "text": [
      "Spark Session Created: <pyspark.sql.session.SparkSession object at 0x7f7807cef5b0>\n"
     ]
    }
   ],
   "source": [
    "from pyspark.sql import SparkSession\n",
    "from pyspark import SparkConf\n",
    "\n",
    "# Create a SparkConf object\n",
    "conf = SparkConf() \\\n",
    "    .setAppName(\"Food Delivery Analysis\") \\\n",
    "    .setMaster(\"local[4]\") \\\n",
    "    .set(\"spark.sql.session.timeZone\", \"Australia/Melbourne\")\n",
    "\n",
    "# Create a SparkSession\n",
    "spark = SparkSession.builder.config(conf=conf).getOrCreate()\n",
    "\n",
    "# Verify Spark session\n",
    "print(\"Spark Session Created:\", spark)"
   ]
  },
  {
   "cell_type": "markdown",
   "metadata": {},
   "source": [
    "1.1.2 Load csv files into multiple RDDs."
   ]
  },
  {
   "cell_type": "code",
   "execution_count": 2,
   "metadata": {},
   "outputs": [],
   "source": [
    "# File paths\n",
    "delivery_order_path = \"delivery_order.csv\"\n",
    "geolocation_path = \"geolocation.csv\"\n",
    "delivery_person_path = \"delivery_person.csv\"\n",
    "\n",
    "# Load datasets into RDDs\n",
    "delivery_order_rdd = spark.sparkContext.textFile(delivery_order_path)\n",
    "geolocation_rdd = spark.sparkContext.textFile(geolocation_path)\n",
    "delivery_person_rdd = spark.sparkContext.textFile(delivery_person_path)"
   ]
  },
  {
   "cell_type": "markdown",
   "metadata": {},
   "source": [
    "1.1.3 For each RDD, remove the header rows and display the total count and first 10 records."
   ]
  },
  {
   "cell_type": "code",
   "execution_count": 3,
   "metadata": {},
   "outputs": [
    {
     "name": "stdout",
     "output_type": "stream",
     "text": [
      "Delivery Order RDD Count: 45593\n",
      "First 10 records: ['\"0x1ec7 \",PUNERES05DEL03 ,,,conditions Stormy,Low ,Snack ,No ,(min) 19,\"13ecba7d-6322-4875-a125-2b6f2460a8ce\",\"744b5795-a105-41e3-9745-695aca9d7d61\"', '\"0x2953 \",CHENRES12DEL01 ,,,conditions NaN,NaN ,Meal ,No ,(min) 15,f03b49f5-6b33-4935-8804-4e1e399fcacc,\"385d18ff-db68-4530-a84c-a1a521cdb998\"', '\"0x922 \",SURRES13DEL02 ,,,conditions NaN,NaN ,Buffet ,No ,(min) 39,\"3b5cd167-d570-4fb1-9cd6-b46ca1b17609\",\"90afcaf3-61bf-4054-bd12-2680d73c5b39\"', '\"0x564 \",JAPRES15DEL03 ,,,conditions NaN,NaN ,Meal ,No ,(min) 15,\"93f914ed-35f6-41a7-916d-241737e79751\",e62499c1-4620-42f8-818d-688082eac064', '\"0xbf2e \",DEHRES03DEL03 ,,,conditions Sunny,Medium ,Meal ,No ,(min) 18,\"0e693e89-7eb8-4f52-b9da-75c9f774fd40\",a8e6e5cb-4bc4-4528-a480-33f90db8b813', '\"0x611 \",BANGRES13DEL01 ,,,conditions Cloudy,Jam ,Meal ,No ,(min) 37,\"66c95be3-3ecc-4bf2-9ca3-583a8ef6598c\",\"01ee4b30-53e9-41f4-96d6-15c46b6bf70e\"', '\"0xcd0 \",INDORES010DEL03 ,,,conditions NaN,NaN ,Snack ,No ,(min) 29,\"729b1d0e-93d7-458c-953f-1875b5d05e78\",\"82ce0a50-c5f3-437b-bde7-e9d8f116db74\"', '\"0x91a \",SURRES17DEL03 ,,,conditions NaN,NaN ,Buffet ,No ,(min) 20,\"44cc1faa-f3e7-4b9f-bd51-73bd65b173b3\",\"7ea436bf-892f-4c18-8573-0f5f70ab53b2\"', '\"0x46d \",BANGRES05DEL01 ,,,conditions NaN,NaN ,Meal ,No ,(min) 25,\"035e6b7a-af38-4483-9d70-6947cb06d121\",cc15290d-6062-47ac-a266-525a14aa3444', '\"0x138c \",VADRES20DEL02 ,,,conditions Stormy,Jam ,Buffet ,No ,(min) 24,\"6d177a6a-ef48-4155-afa0-662e8e0bf6ab\",\"4ca64201-43a0-45eb-9df0-cbe45e99319a\"']\n",
      "Geolocation RDD Count: 5077\n",
      "First 10 records: ['\"41ae7aa1-051b-4053-a6c9-7538c3e8fabc\",17.426227569580078,78.4074935913086,Metropolitian ,\"010100000000000060149A5340000000401D6D3140\"', '\"39434f5a-4a0b-4f3b-b32b-45266a54aa7a\",22.552671432495117,88.3528823852539,Urban ,\"0101000000000000A095165640000000E07B8D3640\"', 'c8615b5b-fa3d-4cce-a014-818484fac5ee,18.563934326171875,73.91536712646484,Metropolitian ,\"010100000000000060957A5240000000005E903240\"', 'abdb483a-ac00-472f-9cdb-a4b017bec359,23.357803344726562,85.32514953613281,Metropolitian ,\"010100000000000040CF54554000000000995B3740\"', 'a150cf6d-9b6b-4336-8a9f-0af0665084b4,11.003668785095215,76.97649383544922,Metropolitian ,\"0101000000000000E07E3E5340000000E0E0012640\"', 'dd953232-df0e-4723-bfb4-ba480d2fe7d1,12.98604679107666,80.2181167602539,Metropolitian ,\"0101000000000000A0F50D544000000020DBF82940\"', 'd7809af4-4f2e-4b1b-9d90-ac9ecd46ef2a,19.221315383911133,72.86238098144531,Metropolitian ,\"0101000000000000403137524000000020A8383340\"', '\"6364439a-71f6-45a0-b62b-4e774ffd1798\",13.0058012008667,80.25074768066406,Metropolitian ,\"0101000000000000400C10544000000060F8022A40\"', 'a078c280-4dfb-48af-aec5-ea22ccc8745a,26.84959602355957,75.8005142211914,Urban ,\"0101000000000000A03BF35240000000207FD93A40\"', 'c9523a4e-9a45-4542-ab1f-217f6d55deea,21.1605224609375,72.77147674560547,Metropolitian ,\"0101000000000000E05F3152400000000018293540\"']\n",
      "Delivery Person RDD Count: 1320\n",
      "First 10 records: ['BHPRES12DEL02 ,20,4.5,1,motorcycle ', 'CHENRES11DEL03 ,35,4.1,1,motorcycle ', 'BANGRES010DEL03 ,39,4.6,1,scooter ', 'VADRES20DEL01 ,34,4.7,2,electric_scooter ', 'BANGRES11DEL01 ,27,4.7,2,scooter ', 'DEHRES01DEL01 ,30,4.8,1,motorcycle ', 'CHENRES02DEL01 ,25,4.4,2,scooter ', 'JAPRES03DEL02 ,30,5.0,1,motorcycle ', 'HYDRES04DEL03 ,24,4.6,1,motorcycle ', 'PUNERES14DEL02 ,39,4.8,1,motorcycle ']\n"
     ]
    }
   ],
   "source": [
    "# Function to remove header\n",
    "def remove_header(rdd):\n",
    "    header = rdd.first()\n",
    "    return rdd.filter(lambda row: row != header)\n",
    "\n",
    "# Remove headers\n",
    "delivery_order_rdd = remove_header(delivery_order_rdd)\n",
    "geolocation_rdd = remove_header(geolocation_rdd)\n",
    "delivery_person_rdd = remove_header(delivery_person_rdd)\n",
    "\n",
    "# Show total counts and first 10 records for each RDD\n",
    "print(\"Delivery Order RDD Count:\", delivery_order_rdd.count())\n",
    "print(\"First 10 records:\", delivery_order_rdd.take(10))\n",
    "\n",
    "print(\"Geolocation RDD Count:\", geolocation_rdd.count())\n",
    "print(\"First 10 records:\", geolocation_rdd.take(10))\n",
    "\n",
    "print(\"Delivery Person RDD Count:\", delivery_person_rdd.count())\n",
    "print(\"First 10 records:\", delivery_person_rdd.take(10))"
   ]
  },
  {
   "cell_type": "markdown",
   "metadata": {},
   "source": [
    "1.1.4 Drop records with invalid information(NaN or Null) in any column."
   ]
  },
  {
   "cell_type": "code",
   "execution_count": 4,
   "metadata": {
    "scrolled": true
   },
   "outputs": [
    {
     "name": "stdout",
     "output_type": "stream",
     "text": [
      "Delivery Order RDD Count: 43862\n",
      "Delivery Person RDD Count: 1316\n",
      "Geolocation RDD Count: 4930\n",
      "First 10 records of cleaned Delivery Order RDD:\n",
      "['\"0xc342 \",KNPRES15DEL01 ,1707829200,1707829800,conditions Fog,High ,Drinks ,No ,(min) 28,fdeebb45-6668-4b3d-a818-de0819617c55,a88c3c57-6673-4fd2-a41d-132998a6dd53', '\"0x9f8b \",PUNERES12DEL01 ,1710276900,1710277200,conditions Stormy,Jam ,Meal ,No ,(min) 38,\"3f829c48-bb60-4a55-b7fc-a2b4aba59703\",cf5c064e-0dda-484d-9979-5bd63ab4eed4', '\"0x9b2e \",PUNERES16DEL02 ,1712133300,1712133900,conditions Windy,Low ,Meal ,No ,(min) 12,a3ad22ea-f857-450b-a9ff-968f5a84d69a,de0825ee-81a7-4245-a0c2-297d34aed634', '\"0xb4fe \",INDORES01DEL01 ,1711395600,1711396500,conditions Windy,Jam ,Snack ,No ,(min) 42,fd0d3a4e-d3f0-430e-9b44-f55cbf2722fb,a42dd5df-f7e7-4942-8389-0bb185d6572d', '\"0x1cef \",RANCHIRES16DEL01 ,1711753200,1711753800,conditions Fog,Low ,Snack ,No ,(min) 23,ce8d42cc-0691-4c25-98d2-3540361fe1ba,\"6b6d5af0-c04c-436e-ada9-19673db38404\"', '\"0x9403 \",BANGRES12DEL01 ,1709631600,1709632500,conditions Fog,Low ,Snack ,No ,(min) 25,\"1b963c08-ae89-43a1-9e6b-72a55a49874a\",ee3e754b-a1b3-48eb-bca6-39db0f03aa1a', '\"0x92a5 \",RANCHIRES01DEL03 ,1709333100,1709333700,conditions Windy,Low ,Meal ,No ,(min) 20,\"21105aaf-3f82-478b-a3fc-8d0aa3bec016\",aabbe34b-6076-4f2d-ac97-4aafa49bcc44', '\"0xccde \",AURGRES05DEL01 ,1708123200,1708124100,conditions Cloudy,Low ,Drinks ,No ,(min) 34,\"8d9c8606-0e04-48d9-b8e8-5daac2b5113e\",\"65b3a444-0746-40c7-bd9b-ccd47dcc1251\"', '\"0xb12a \",MUMRES03DEL01 ,1710453300,1710453900,conditions Sunny,Jam ,Buffet ,No ,(min) 34,\"7c0877c4-245d-40a3-851f-ba0dd21f6607\",a5b96925-e650-431c-87dd-397f87ee53d6', '\"0x2813 \",MUMRES17DEL02 ,1711064700,1711065300,conditions Fog,Low ,Meal ,No ,(min) 10,\"0e54a87b-47a0-4b04-97bb-9b393b9ec866\",\"47f16b6a-42b9-471c-bbf8-e82ff4f4c861\"']\n",
      "\n",
      "First 10 records of cleaned Geolocation RDD:\n",
      "['\"41ae7aa1-051b-4053-a6c9-7538c3e8fabc\",17.426227569580078,78.4074935913086,Metropolitian ,\"010100000000000060149A5340000000401D6D3140\"', '\"39434f5a-4a0b-4f3b-b32b-45266a54aa7a\",22.552671432495117,88.3528823852539,Urban ,\"0101000000000000A095165640000000E07B8D3640\"', 'c8615b5b-fa3d-4cce-a014-818484fac5ee,18.563934326171875,73.91536712646484,Metropolitian ,\"010100000000000060957A5240000000005E903240\"', 'abdb483a-ac00-472f-9cdb-a4b017bec359,23.357803344726562,85.32514953613281,Metropolitian ,\"010100000000000040CF54554000000000995B3740\"', 'a150cf6d-9b6b-4336-8a9f-0af0665084b4,11.003668785095215,76.97649383544922,Metropolitian ,\"0101000000000000E07E3E5340000000E0E0012640\"', 'dd953232-df0e-4723-bfb4-ba480d2fe7d1,12.98604679107666,80.2181167602539,Metropolitian ,\"0101000000000000A0F50D544000000020DBF82940\"', 'd7809af4-4f2e-4b1b-9d90-ac9ecd46ef2a,19.221315383911133,72.86238098144531,Metropolitian ,\"0101000000000000403137524000000020A8383340\"', '\"6364439a-71f6-45a0-b62b-4e774ffd1798\",13.0058012008667,80.25074768066406,Metropolitian ,\"0101000000000000400C10544000000060F8022A40\"', 'a078c280-4dfb-48af-aec5-ea22ccc8745a,26.84959602355957,75.8005142211914,Urban ,\"0101000000000000A03BF35240000000207FD93A40\"', 'c9523a4e-9a45-4542-ab1f-217f6d55deea,21.1605224609375,72.77147674560547,Metropolitian ,\"0101000000000000E05F3152400000000018293540\"']\n",
      "\n",
      "First 10 records of cleaned Delivery Person RDD:\n",
      "['BHPRES12DEL02 ,20,4.5,1,motorcycle ', 'CHENRES11DEL03 ,35,4.1,1,motorcycle ', 'BANGRES010DEL03 ,39,4.6,1,scooter ', 'VADRES20DEL01 ,34,4.7,2,electric_scooter ', 'BANGRES11DEL01 ,27,4.7,2,scooter ', 'DEHRES01DEL01 ,30,4.8,1,motorcycle ', 'CHENRES02DEL01 ,25,4.4,2,scooter ', 'JAPRES03DEL02 ,30,5.0,1,motorcycle ', 'HYDRES04DEL03 ,24,4.6,1,motorcycle ', 'PUNERES14DEL02 ,39,4.8,1,motorcycle ']\n"
     ]
    }
   ],
   "source": [
    "# Function to drop invalid rows\n",
    "def drop_invalid_records(rdd):\n",
    "    return rdd.filter(lambda row: all(col != \"NaN\" and col != \"\" for col in row.split(\",\")))\n",
    "\n",
    "# Clean RDDs\n",
    "delivery_order_rdd = drop_invalid_records(delivery_order_rdd)\n",
    "geolocation_rdd = drop_invalid_records(geolocation_rdd)\n",
    "delivery_person_rdd = drop_invalid_records(delivery_person_rdd)\n",
    "\n",
    "print(\"Delivery Order RDD Count:\", delivery_order_rdd.count())\n",
    "print(\"Delivery Person RDD Count:\", delivery_person_rdd.count())\n",
    "print(\"Geolocation RDD Count:\", geolocation_rdd.count())\n",
    "\n",
    "# Print 10 records of each cleaned dataset\n",
    "print(\"First 10 records of cleaned Delivery Order RDD:\")\n",
    "print(delivery_order_rdd.take(10))\n",
    "\n",
    "print(\"\\nFirst 10 records of cleaned Geolocation RDD:\")\n",
    "print(geolocation_rdd.take(10))\n",
    "\n",
    "print(\"\\nFirst 10 records of cleaned Delivery Person RDD:\")\n",
    "print(delivery_person_rdd.take(10))"
   ]
  },
  {
   "cell_type": "markdown",
   "metadata": {},
   "source": [
    "### 1.2 Data Partitioning in RDD <a class=\"anchor\" name=\"1.2\"></a>\n",
    "1.2.1 For each RDD, using Spark’s default partitioning, print out the total number of partitions and the number of records in each partition"
   ]
  },
  {
   "cell_type": "code",
   "execution_count": 5,
   "metadata": {
    "scrolled": true
   },
   "outputs": [
    {
     "name": "stdout",
     "output_type": "stream",
     "text": [
      "Delivery Order RDD Partitions: 2\n",
      "Geolocation RDD Partitions: 2\n",
      "Delivery Person RDD Partitions: 2\n",
      "\n",
      "Number of records in each partition of Delivery Order RDD:\n",
      "Partition 0: 21179 records\n",
      "Partition 1: 22683 records\n",
      "\n",
      "Number of records in each partition of Geolocation RDD:\n",
      "Partition 0: 2394 records\n",
      "Partition 1: 2536 records\n",
      "\n",
      "Number of records in each partition of Delivery Person RDD:\n",
      "Partition 0: 655 records\n",
      "Partition 1: 661 records\n"
     ]
    }
   ],
   "source": [
    "# Check total number of partitions\n",
    "print(\"Delivery Order RDD Partitions:\", delivery_order_rdd.getNumPartitions())\n",
    "print(\"Geolocation RDD Partitions:\", geolocation_rdd.getNumPartitions())\n",
    "print(\"Delivery Person RDD Partitions:\", delivery_person_rdd.getNumPartitions())\n",
    "\n",
    "# Function to count records in each partition\n",
    "def count_records_in_partitions(rdd, rdd_name):\n",
    "    partition_counts = rdd.mapPartitionsWithIndex(\n",
    "        lambda idx, iterator: [(idx, len(list(iterator)))]\n",
    "    ).collect()\n",
    "    \n",
    "    print(f\"\\nNumber of records in each partition of {rdd_name}:\")\n",
    "    for partition, count in partition_counts:\n",
    "        print(f\"Partition {partition}: {count} records\")\n",
    "\n",
    "# Print number of records in each partition\n",
    "count_records_in_partitions(delivery_order_rdd, \"Delivery Order RDD\")\n",
    "count_records_in_partitions(geolocation_rdd, \"Geolocation RDD\")\n",
    "count_records_in_partitions(delivery_person_rdd, \"Delivery Person RDD\")"
   ]
  },
  {
   "cell_type": "markdown",
   "metadata": {},
   "source": [
    "1.2.2 Answer the following questions:   \n",
    "a) How many partitions do the above RDDs have?  \n",
    "b) How is the data in these RDDs partitioned by default, when we do not explicitly specify any partitioning strategy? Can you explain why it is partitioned in this number?   \n",
    "c) Assuming we are querying the dataset based on order timestamp, can you think of a better strategy for partitioning the data based on your available hardware resources?  "
   ]
  },
  {
   "cell_type": "markdown",
   "metadata": {},
   "source": [
    "a) Delivery Order RDD Partitions: 2\n",
    "Geolocation RDD Partitions: 2\n",
    "Delivery Person RDD Partitions: 2"
   ]
  },
  {
   "cell_type": "markdown",
   "metadata": {},
   "source": [
    "b) Default Partitioning Strategy: By default, Spark determines the number of partitions based on:\n",
    "\n",
    "The number of cores available on the machine or cluster where the job is being executed.\n",
    "The size of the input dataset.\n",
    "Explanation for the Number of Partitions:\n",
    "\n",
    "The number of partitions is 2 because Spark's default partitioning is influenced by either the default parallelism setting or the number of CPU cores available in the environment. In our setup, the Spark session is configured to run locally with 4 cores (local[4]). Spark typically chooses the default number of partitions as a multiple or fraction of the available cores, ensuring efficient parallelism without creating too many small partitions. For moderately sized datasets, Spark may automatically assign fewer partitions (like 2) to avoid unnecessary overhead while still leveraging parallel processing."
   ]
  },
  {
   "cell_type": "markdown",
   "metadata": {},
   "source": [
    "c) A better strategy would be to use range partitioning based on the order_ts column. This would divide the dataset into partitions based on time intervals (e.g., monthly or quarterly), ensuring that queries targeting specific time ranges only scan the relevant partition, reducing processing time. Since our machine has 4 cores, we should create at least 4 partitions to maximize parallelism. Additionally, if the dataset is large, increasing the partitions to 8 or more would prevent memory bottlenecks. This strategy improves query efficiency and ensures an even distribution of data across partitions."
   ]
  },
  {
   "cell_type": "markdown",
   "metadata": {},
   "source": [
    "1.2.3 Create a user-defined function (UDF) to transform a timestamp to ISO format(YYYY-MM-DD HH:mm:ss), then call the UDF to transform two timestamps(order_ts and ready_ts) to order_datetime and ready_datetime。"
   ]
  },
  {
   "cell_type": "code",
   "execution_count": 6,
   "metadata": {},
   "outputs": [
    {
     "name": "stdout",
     "output_type": "stream",
     "text": [
      "['\"0xc342 \"', 'KNPRES15DEL01 ', '1707829200', '1707829800', 'conditions Fog', 'High ', 'Drinks ', 'No ', '(min) 28', 'fdeebb45-6668-4b3d-a818-de0819617c55', 'a88c3c57-6673-4fd2-a41d-132998a6dd53', '2024-02-13 13:00:00', '2024-02-13 13:10:00']\n",
      "['\"0x9f8b \"', 'PUNERES12DEL01 ', '1710276900', '1710277200', 'conditions Stormy', 'Jam ', 'Meal ', 'No ', '(min) 38', '\"3f829c48-bb60-4a55-b7fc-a2b4aba59703\"', 'cf5c064e-0dda-484d-9979-5bd63ab4eed4', '2024-03-12 20:55:00', '2024-03-12 21:00:00']\n",
      "['\"0x9b2e \"', 'PUNERES16DEL02 ', '1712133300', '1712133900', 'conditions Windy', 'Low ', 'Meal ', 'No ', '(min) 12', 'a3ad22ea-f857-450b-a9ff-968f5a84d69a', 'de0825ee-81a7-4245-a0c2-297d34aed634', '2024-04-03 08:35:00', '2024-04-03 08:45:00']\n",
      "['\"0xb4fe \"', 'INDORES01DEL01 ', '1711395600', '1711396500', 'conditions Windy', 'Jam ', 'Snack ', 'No ', '(min) 42', 'fd0d3a4e-d3f0-430e-9b44-f55cbf2722fb', 'a42dd5df-f7e7-4942-8389-0bb185d6572d', '2024-03-25 19:40:00', '2024-03-25 19:55:00']\n",
      "['\"0x1cef \"', 'RANCHIRES16DEL01 ', '1711753200', '1711753800', 'conditions Fog', 'Low ', 'Snack ', 'No ', '(min) 23', 'ce8d42cc-0691-4c25-98d2-3540361fe1ba', '\"6b6d5af0-c04c-436e-ada9-19673db38404\"', '2024-03-29 23:00:00', '2024-03-29 23:10:00']\n",
      "['\"0x9403 \"', 'BANGRES12DEL01 ', '1709631600', '1709632500', 'conditions Fog', 'Low ', 'Snack ', 'No ', '(min) 25', '\"1b963c08-ae89-43a1-9e6b-72a55a49874a\"', 'ee3e754b-a1b3-48eb-bca6-39db0f03aa1a', '2024-03-05 09:40:00', '2024-03-05 09:55:00']\n",
      "['\"0x92a5 \"', 'RANCHIRES01DEL03 ', '1709333100', '1709333700', 'conditions Windy', 'Low ', 'Meal ', 'No ', '(min) 20', '\"21105aaf-3f82-478b-a3fc-8d0aa3bec016\"', 'aabbe34b-6076-4f2d-ac97-4aafa49bcc44', '2024-03-01 22:45:00', '2024-03-01 22:55:00']\n",
      "['\"0xccde \"', 'AURGRES05DEL01 ', '1708123200', '1708124100', 'conditions Cloudy', 'Low ', 'Drinks ', 'No ', '(min) 34', '\"8d9c8606-0e04-48d9-b8e8-5daac2b5113e\"', '\"65b3a444-0746-40c7-bd9b-ccd47dcc1251\"', '2024-02-16 22:40:00', '2024-02-16 22:55:00']\n",
      "['\"0xb12a \"', 'MUMRES03DEL01 ', '1710453300', '1710453900', 'conditions Sunny', 'Jam ', 'Buffet ', 'No ', '(min) 34', '\"7c0877c4-245d-40a3-851f-ba0dd21f6607\"', 'a5b96925-e650-431c-87dd-397f87ee53d6', '2024-03-14 21:55:00', '2024-03-14 22:05:00']\n",
      "['\"0x2813 \"', 'MUMRES17DEL02 ', '1711064700', '1711065300', 'conditions Fog', 'Low ', 'Meal ', 'No ', '(min) 10', '\"0e54a87b-47a0-4b04-97bb-9b393b9ec866\"', '\"47f16b6a-42b9-471c-bbf8-e82ff4f4c861\"', '2024-03-21 23:45:00', '2024-03-21 23:55:00']\n"
     ]
    }
   ],
   "source": [
    "from datetime import datetime\n",
    "\n",
    "# Define indices for order_ts and ready_ts\n",
    "order_ts_index = 2  \n",
    "ready_ts_index = 3  \n",
    "\n",
    "# Define UDF for timestamp transformation\n",
    "def to_iso_format(timestamp):\n",
    "    return datetime.fromtimestamp(float(timestamp)).strftime(\"%Y-%m-%d %H:%M:%S\")\n",
    "\n",
    "# Apply UDF and transform the RDD\n",
    "order_datetime_rdd = delivery_order_rdd.map(\n",
    "    lambda row: row.split(\",\") + [\n",
    "        to_iso_format(row.split(\",\")[order_ts_index]),\n",
    "        to_iso_format(row.split(\",\")[ready_ts_index])\n",
    "    ]\n",
    ")\n",
    "\n",
    "# Collect the transformed data and display\n",
    "result = order_datetime_rdd.collect()\n",
    "for row in result[:10]:  # Display the first 10 rows\n",
    "    print(row)\n",
    "\n"
   ]
  },
  {
   "cell_type": "markdown",
   "metadata": {},
   "source": [
    "### 1.3 Query/Analysis <a class=\"anchor\" name=\"1.3\"></a>\n",
    "For this part, write relevant RDD operations to answer the following queries.\n",
    "\n",
    "1.3.1 Extract weekday (Monday-Sunday) information from orders and print the total number of orders each weekday."
   ]
  },
  {
   "cell_type": "code",
   "execution_count": 7,
   "metadata": {},
   "outputs": [
    {
     "name": "stdout",
     "output_type": "stream",
     "text": [
      "Total orders by weekday: [('Monday', 5845), ('Friday', 6027), ('Thursday', 6056), ('Saturday', 6896), ('Sunday', 6965), ('Tuesday', 6149), ('Wednesday', 5924)]\n"
     ]
    }
   ],
   "source": [
    "from datetime import datetime\n",
    "\n",
    "# Define column indices\n",
    "order_ts_index = 2  \n",
    "\n",
    "# Function to extract weekday\n",
    "def extract_weekday(row):\n",
    "    timestamp = float(row.split(\",\")[order_ts_index])  \n",
    "    weekday = datetime.fromtimestamp(timestamp).strftime(\"%A\")\n",
    "    return (weekday, 1)\n",
    "\n",
    "# Apply the function\n",
    "weekday_orders_rdd = delivery_order_rdd.map(extract_weekday).reduceByKey(lambda a, b: a + b)\n",
    "\n",
    "# Collect and print results\n",
    "print(\"Total orders by weekday:\", weekday_orders_rdd.collect())\n"
   ]
  },
  {
   "cell_type": "markdown",
   "metadata": {},
   "source": [
    "1.3.2 Show a list of type_of_order and average preparation time in minutes (ready_ts - order_ts)."
   ]
  },
  {
   "cell_type": "code",
   "execution_count": 8,
   "metadata": {},
   "outputs": [
    {
     "name": "stdout",
     "output_type": "stream",
     "text": [
      "Type of order and average preparation time: [('Snack ', -21.535930033360383), ('Drinks ', -12.50711204918785), ('Meal ', -17.48683971682701), ('Buffet ', -17.5635593220339)]\n"
     ]
    }
   ],
   "source": [
    "# Column indices\n",
    "order_ts_index = 2\n",
    "ready_ts_index = 3\n",
    "type_of_order_index = 6\n",
    "\n",
    "def calculate_prep_time(row):\n",
    "    cols = row.split(\",\")\n",
    "    type_of_order = cols[type_of_order_index]  # Access 'type_of_order'\n",
    "    prep_time = (float(cols[ready_ts_index]) - float(cols[order_ts_index])) / 60  # Calculate preparation time in minutes\n",
    "    return (type_of_order, (prep_time, 1))\n",
    "\n",
    "prep_time_rdd = delivery_order_rdd.map(calculate_prep_time) \\\n",
    "    .reduceByKey(lambda a, b: (a[0] + b[0], a[1] + b[1])) \\\n",
    "    .mapValues(lambda v: v[0] / v[1])  # Calculate average\n",
    "\n",
    "print(\"Type of order and average preparation time:\", prep_time_rdd.collect())"
   ]
  },
  {
   "cell_type": "markdown",
   "metadata": {},
   "source": [
    "## Part 2. Working with DataFrames (45%) <a class=\"anchor\" name=\"2-dataframes\"></a>\n",
    "In this section, you need to load the given datasets into PySpark DataFrames and use DataFrame functions to answer the queries.\n",
    "### 2.1 Data Preparation and Loading\n",
    "\n",
    "2.1.1. Load the CSV files into separate dataframes. When you create your dataframes, please refer to the metadata file and think about the appropriate data type for each column."
   ]
  },
  {
   "cell_type": "code",
   "execution_count": 46,
   "metadata": {},
   "outputs": [],
   "source": [
    "from pyspark.sql import SparkSession\n",
    "from pyspark.sql.types import StructType, StructField, StringType, FloatType, IntegerType\n",
    "\n",
    "# Initialize SparkSession\n",
    "spark = SparkSession.builder \\\n",
    "    .appName(\"Delivery Data Analysis\") \\\n",
    "    .master(\"local[4]\") \\\n",
    "    .getOrCreate()\n",
    "\n",
    "from pyspark.sql import SparkSession\n",
    "from pyspark.sql.types import StructType, StructField, StringType, IntegerType, FloatType, LongType\n",
    "\n",
    "# Initialize Spark session\n",
    "spark = SparkSession.builder.appName(\"LoadCSVFiles\").getOrCreate()\n",
    "\n",
    "# Define schema for each DataFrame based on metadata\n",
    "# Schema for delivery_order.csv\n",
    "delivery_order_schema = StructType([\n",
    "    StructField(\"order_id\", StringType(), True),\n",
    "    StructField(\"delivery_person_id\", StringType(), True),\n",
    "    StructField(\"order_ts\", LongType(), True),\n",
    "    StructField(\"ready_ts\", LongType(), True),\n",
    "    StructField(\"weather_condition\", StringType(), True),\n",
    "    StructField(\"road_condition\", StringType(), True),\n",
    "    StructField(\"type_of_order\", StringType(), True),\n",
    "    StructField(\"is_festival\", StringType(), True),\n",
    "    StructField(\"time_taken\", StringType(), True),\n",
    "    StructField(\"restaurant_geoid\", StringType(), True),\n",
    "    StructField(\"delivery_geoid\", StringType(), True)\n",
    "])\n",
    "\n",
    "# Schema for delivery_person.csv\n",
    "delivery_person_schema = StructType([\n",
    "    StructField(\"person_id\", StringType(), True),\n",
    "    StructField(\"age\", IntegerType(), True),\n",
    "    StructField(\"rating\", FloatType(), True),\n",
    "    StructField(\"vehicle_condition\", IntegerType(), True),\n",
    "    StructField(\"type_of_vehicle\", StringType(), True)\n",
    "])\n",
    "\n",
    "# Schema for geolocation.csv\n",
    "geolocation_schema = StructType([\n",
    "    StructField(\"geoid\", StringType(), True),\n",
    "    StructField(\"latitude\", FloatType(), True),\n",
    "    StructField(\"longitude\", FloatType(), True),\n",
    "    StructField(\"district\", StringType(), True),\n",
    "    StructField(\"loc\", StringType(), True)\n",
    "])\n",
    "\n",
    "# Load delivery_order.csv into DataFrame\n",
    "delivery_order_path = \"delivery_order.csv\"  \n",
    "delivery_order_df = spark.read.csv(delivery_order_path, schema=delivery_order_schema, header=True)\n",
    "\n",
    "# Load geolocation.csv into DataFrame\n",
    "geolocation_path = \"geolocation.csv\"  \n",
    "geolocation_df = spark.read.csv(geolocation_path, schema=geolocation_schema, header=True)\n",
    "\n",
    "# Load delivery_person.csv into DataFrame\n",
    "delivery_person_path = \"delivery_person.csv\"  \n",
    "delivery_person_df = spark.read.csv(delivery_person_path, schema=delivery_person_schema, header=True)\n"
   ]
  },
  {
   "cell_type": "markdown",
   "metadata": {},
   "source": [
    "2.1.2 Display the schema of the dataframes."
   ]
  },
  {
   "cell_type": "code",
   "execution_count": 47,
   "metadata": {},
   "outputs": [
    {
     "name": "stdout",
     "output_type": "stream",
     "text": [
      "delivery_order schema:\n",
      "+--------+------------------+--------+--------+-----------------+--------------+-------------+-----------+----------+--------------------+--------------------+\n",
      "|order_id|delivery_person_id|order_ts|ready_ts|weather_condition|road_condition|type_of_order|is_festival|time_taken|    restaurant_geoid|      delivery_geoid|\n",
      "+--------+------------------+--------+--------+-----------------+--------------+-------------+-----------+----------+--------------------+--------------------+\n",
      "| 0x1ec7 |   PUNERES05DEL03 |    NULL|    NULL|conditions Stormy|          Low |       Snack |        No |  (min) 19|13ecba7d-6322-487...|744b5795-a105-41e...|\n",
      "| 0x2953 |   CHENRES12DEL01 |    NULL|    NULL|   conditions NaN|          NaN |        Meal |        No |  (min) 15|f03b49f5-6b33-493...|385d18ff-db68-453...|\n",
      "|  0x922 |    SURRES13DEL02 |    NULL|    NULL|   conditions NaN|          NaN |      Buffet |        No |  (min) 39|3b5cd167-d570-4fb...|90afcaf3-61bf-405...|\n",
      "|  0x564 |    JAPRES15DEL03 |    NULL|    NULL|   conditions NaN|          NaN |        Meal |        No |  (min) 15|93f914ed-35f6-41a...|e62499c1-4620-42f...|\n",
      "| 0xbf2e |    DEHRES03DEL03 |    NULL|    NULL| conditions Sunny|       Medium |        Meal |        No |  (min) 18|0e693e89-7eb8-4f5...|a8e6e5cb-4bc4-452...|\n",
      "|  0x611 |   BANGRES13DEL01 |    NULL|    NULL|conditions Cloudy|          Jam |        Meal |        No |  (min) 37|66c95be3-3ecc-4bf...|01ee4b30-53e9-41f...|\n",
      "|  0xcd0 |  INDORES010DEL03 |    NULL|    NULL|   conditions NaN|          NaN |       Snack |        No |  (min) 29|729b1d0e-93d7-458...|82ce0a50-c5f3-437...|\n",
      "|  0x91a |    SURRES17DEL03 |    NULL|    NULL|   conditions NaN|          NaN |      Buffet |        No |  (min) 20|44cc1faa-f3e7-4b9...|7ea436bf-892f-4c1...|\n",
      "|  0x46d |   BANGRES05DEL01 |    NULL|    NULL|   conditions NaN|          NaN |        Meal |        No |  (min) 25|035e6b7a-af38-448...|cc15290d-6062-47a...|\n",
      "| 0x138c |    VADRES20DEL02 |    NULL|    NULL|conditions Stormy|          Jam |      Buffet |        No |  (min) 24|6d177a6a-ef48-415...|4ca64201-43a0-45e...|\n",
      "+--------+------------------+--------+--------+-----------------+--------------+-------------+-----------+----------+--------------------+--------------------+\n",
      "only showing top 10 rows\n",
      "\n",
      "root\n",
      " |-- order_id: string (nullable = true)\n",
      " |-- delivery_person_id: string (nullable = true)\n",
      " |-- order_ts: long (nullable = true)\n",
      " |-- ready_ts: long (nullable = true)\n",
      " |-- weather_condition: string (nullable = true)\n",
      " |-- road_condition: string (nullable = true)\n",
      " |-- type_of_order: string (nullable = true)\n",
      " |-- is_festival: string (nullable = true)\n",
      " |-- time_taken: string (nullable = true)\n",
      " |-- restaurant_geoid: string (nullable = true)\n",
      " |-- delivery_geoid: string (nullable = true)\n",
      "\n",
      "geolocation schema:\n",
      "+--------------------+---------+---------+--------------+--------------------+\n",
      "|               geoid| latitude|longitude|      district|                 loc|\n",
      "+--------------------+---------+---------+--------------+--------------------+\n",
      "|41ae7aa1-051b-405...|17.426228| 78.40749|Metropolitian |01010000000000006...|\n",
      "|39434f5a-4a0b-4f3...|22.552671| 88.35288|        Urban |0101000000000000A...|\n",
      "|c8615b5b-fa3d-4cc...|18.563934| 73.91537|Metropolitian |01010000000000006...|\n",
      "|abdb483a-ac00-472...|23.357803| 85.32515|Metropolitian |01010000000000004...|\n",
      "|a150cf6d-9b6b-433...|11.003669|76.976494|Metropolitian |0101000000000000E...|\n",
      "|dd953232-df0e-472...|12.986047| 80.21812|Metropolitian |0101000000000000A...|\n",
      "|d7809af4-4f2e-4b1...|19.221315| 72.86238|Metropolitian |01010000000000004...|\n",
      "|6364439a-71f6-45a...|13.005801| 80.25075|Metropolitian |01010000000000004...|\n",
      "|a078c280-4dfb-48a...|26.849596|75.800514|        Urban |0101000000000000A...|\n",
      "|c9523a4e-9a45-454...|21.160522| 72.77148|Metropolitian |0101000000000000E...|\n",
      "+--------------------+---------+---------+--------------+--------------------+\n",
      "only showing top 10 rows\n",
      "\n",
      "root\n",
      " |-- geoid: string (nullable = true)\n",
      " |-- latitude: float (nullable = true)\n",
      " |-- longitude: float (nullable = true)\n",
      " |-- district: string (nullable = true)\n",
      " |-- loc: string (nullable = true)\n",
      "\n",
      "delivery person schema:\n",
      "+----------------+---+------+-----------------+-----------------+\n",
      "|       person_id|age|rating|vehicle_condition|  type_of_vehicle|\n",
      "+----------------+---+------+-----------------+-----------------+\n",
      "|  BHPRES12DEL02 | 20|   4.5|                1|      motorcycle |\n",
      "| CHENRES11DEL03 | 35|   4.1|                1|      motorcycle |\n",
      "|BANGRES010DEL03 | 39|   4.6|                1|         scooter |\n",
      "|  VADRES20DEL01 | 34|   4.7|                2|electric_scooter |\n",
      "| BANGRES11DEL01 | 27|   4.7|                2|         scooter |\n",
      "|  DEHRES01DEL01 | 30|   4.8|                1|      motorcycle |\n",
      "| CHENRES02DEL01 | 25|   4.4|                2|         scooter |\n",
      "|  JAPRES03DEL02 | 30|   5.0|                1|      motorcycle |\n",
      "|  HYDRES04DEL03 | 24|   4.6|                1|      motorcycle |\n",
      "| PUNERES14DEL02 | 39|   4.8|                1|      motorcycle |\n",
      "+----------------+---+------+-----------------+-----------------+\n",
      "only showing top 10 rows\n",
      "\n",
      "root\n",
      " |-- person_id: string (nullable = true)\n",
      " |-- age: integer (nullable = true)\n",
      " |-- rating: float (nullable = true)\n",
      " |-- vehicle_condition: integer (nullable = true)\n",
      " |-- type_of_vehicle: string (nullable = true)\n",
      "\n"
     ]
    }
   ],
   "source": [
    "# Display DataFrames\n",
    "print(\"delivery_order schema:\")\n",
    "delivery_order_df.show(10)\n",
    "delivery_order_df.printSchema()\n",
    "\n",
    "print(\"geolocation schema:\")\n",
    "geolocation_df.show(10)\n",
    "geolocation_df.printSchema()\n",
    "\n",
    "print(\"delivery person schema:\")\n",
    "delivery_person_df.show(10)\n",
    "delivery_person_df.printSchema()"
   ]
  },
  {
   "cell_type": "markdown",
   "metadata": {},
   "source": [
    "When the dataset is large, do you need all columns? How to optimize memory usage? Do you need a customized data partitioning strategy? (Note: Think about those questions but you don’t need to answer these questions.)\n",
    "\n",
    "ANS:\n",
    "\n",
    "Column Selection: we may not need all the columns in our dataset for every task. Use the select() function to pick only the relevant columns required for our analysis. This minimizes the amount of data loaded into memory.\n",
    "\n",
    "Data Filtering: Apply filters to remove unnecessary rows or invalid records as early as possible in the pipeline. This reduces the size of the working dataset and speeds up subsequent operations.\n"
   ]
  },
  {
   "cell_type": "markdown",
   "metadata": {},
   "source": [
    "### 2.2 QueryAnalysis  <a class=\"anchor\" name=\"2.2\"></a>\n",
    "Implement the following queries using dataframes. You need to be able to perform operations like transforming, filtering, sorting, joining and group by using the functions provided by the DataFrame API.   \n",
    "\n",
    "2.2.1. Write a function to encode/transform weather conditions to Integers and drop the original string. You can decide your own encoding scheme. (i.e. Sunny=0, Cloudy = 1, Fog = 2, etc.)"
   ]
  },
  {
   "cell_type": "code",
   "execution_count": 48,
   "metadata": {},
   "outputs": [
    {
     "name": "stdout",
     "output_type": "stream",
     "text": [
      "+--------+------------------+--------+--------+--------------+-------------+-----------+----------+--------------------+--------------------+-------------------------+\n",
      "|order_id|delivery_person_id|order_ts|ready_ts|road_condition|type_of_order|is_festival|time_taken|    restaurant_geoid|      delivery_geoid|weather_condition_encoded|\n",
      "+--------+------------------+--------+--------+--------------+-------------+-----------+----------+--------------------+--------------------+-------------------------+\n",
      "| 0x1ec7 |   PUNERES05DEL03 |    NULL|    NULL|          Low |       Snack |        No |  (min) 19|13ecba7d-6322-487...|744b5795-a105-41e...|                        5|\n",
      "| 0x2953 |   CHENRES12DEL01 |    NULL|    NULL|          NaN |        Meal |        No |  (min) 15|f03b49f5-6b33-493...|385d18ff-db68-453...|                       -1|\n",
      "|  0x922 |    SURRES13DEL02 |    NULL|    NULL|          NaN |      Buffet |        No |  (min) 39|3b5cd167-d570-4fb...|90afcaf3-61bf-405...|                       -1|\n",
      "|  0x564 |    JAPRES15DEL03 |    NULL|    NULL|          NaN |        Meal |        No |  (min) 15|93f914ed-35f6-41a...|e62499c1-4620-42f...|                       -1|\n",
      "| 0xbf2e |    DEHRES03DEL03 |    NULL|    NULL|       Medium |        Meal |        No |  (min) 18|0e693e89-7eb8-4f5...|a8e6e5cb-4bc4-452...|                        0|\n",
      "|  0x611 |   BANGRES13DEL01 |    NULL|    NULL|          Jam |        Meal |        No |  (min) 37|66c95be3-3ecc-4bf...|01ee4b30-53e9-41f...|                        1|\n",
      "|  0xcd0 |  INDORES010DEL03 |    NULL|    NULL|          NaN |       Snack |        No |  (min) 29|729b1d0e-93d7-458...|82ce0a50-c5f3-437...|                       -1|\n",
      "|  0x91a |    SURRES17DEL03 |    NULL|    NULL|          NaN |      Buffet |        No |  (min) 20|44cc1faa-f3e7-4b9...|7ea436bf-892f-4c1...|                       -1|\n",
      "|  0x46d |   BANGRES05DEL01 |    NULL|    NULL|          NaN |        Meal |        No |  (min) 25|035e6b7a-af38-448...|cc15290d-6062-47a...|                       -1|\n",
      "| 0x138c |    VADRES20DEL02 |    NULL|    NULL|          Jam |      Buffet |        No |  (min) 24|6d177a6a-ef48-415...|4ca64201-43a0-45e...|                        5|\n",
      "+--------+------------------+--------+--------+--------------+-------------+-----------+----------+--------------------+--------------------+-------------------------+\n",
      "only showing top 10 rows\n",
      "\n"
     ]
    }
   ],
   "source": [
    "from pyspark.sql.functions import when, col, trim, regexp_replace, isnan\n",
    "\n",
    "def encode_weather_conditions(df):\n",
    "    # Clean up the weather_condition column by removing \"conditions \" prefix\n",
    "    df = df.withColumn(\"weather_condition\", regexp_replace(col(\"weather_condition\"), \"conditions \", \"\"))\n",
    "    # Transform weather_condition to integers\n",
    "    return df.withColumn(\n",
    "        \"weather_condition_encoded\",\n",
    "        when(trim(col(\"weather_condition\")).isNull() | isnan(col(\"weather_condition\")), -1)\n",
    "        .when(trim(col(\"weather_condition\")) == \"Sunny\", 0)\n",
    "        .when(trim(col(\"weather_condition\")) == \"Cloudy\", 1)\n",
    "        .when(trim(col(\"weather_condition\")) == \"Fog\", 2)\n",
    "        .when(trim(col(\"weather_condition\")) == \"Rainy\", 3)\n",
    "        .when(trim(col(\"weather_condition\")) == \"Snowy\", 4)\n",
    "        .when(trim(col(\"weather_condition\")) == \"Stormy\", 5)\n",
    "        .when(trim(col(\"weather_condition\")) == \"Windy\", 6)\n",
    "        .when(trim(col(\"weather_condition\")) == \"Sandstorms\", 7)\n",
    "        .otherwise(-1)  # Default for unknown conditions\n",
    "    ).drop(\"weather_condition\")\n",
    "\n",
    "delivery_order_df = encode_weather_conditions(delivery_order_df)\n",
    "delivery_order_df.show(10)"
   ]
  },
  {
   "cell_type": "markdown",
   "metadata": {},
   "source": [
    "2.2.2. Calculate the amount of order for each hour. Show the results in a table and plot a bar chart. "
   ]
  },
  {
   "cell_type": "code",
   "execution_count": 51,
   "metadata": {},
   "outputs": [
    {
     "name": "stdout",
     "output_type": "stream",
     "text": [
      "+----------+-----+\n",
      "|order_hour|count|\n",
      "+----------+-----+\n",
      "|         0|  430|\n",
      "|         8| 1818|\n",
      "|         9| 1947|\n",
      "|        10| 1991|\n",
      "|        11| 1962|\n",
      "|        12|  892|\n",
      "|        13|  784|\n",
      "|        14|  791|\n",
      "|        15|  873|\n",
      "|        16|  709|\n",
      "|        17| 4278|\n",
      "|        18| 4480|\n",
      "|        19| 4595|\n",
      "|        20| 4539|\n",
      "|        21| 4686|\n",
      "|        22| 4576|\n",
      "|        23| 4511|\n",
      "+----------+-----+\n",
      "\n"
     ]
    },
    {
     "data": {
      "image/png": "[encoded data removed]",
      "text/plain": [
       "<Figure size 1000x600 with 1 Axes>"
      ]
     },
     "metadata": {},
     "output_type": "display_data"
    }
   ],
   "source": [
    "from pyspark.sql import SparkSession\n",
    "from pyspark.sql.types import StructType, StructField, StringType, FloatType, IntegerType\n",
    "from pyspark.sql.functions import col\n",
    "\n",
    "# Calculate the amount of orders for each hour\n",
    "def calculate_orders_per_hour(df):\n",
    "    # Convert order_ts to hour\n",
    "    df = df.withColumn(\"order_hour\", (col(\"order_ts\") / 3600).cast(\"int\") % 24)\n",
    "    # Remove rows with NULL values in order_hour\n",
    "    df = df.filter(df[\"order_hour\"].isNotNull())\n",
    "    # Group by hour and count orders\n",
    "    orders_per_hour = df.groupBy(\"order_hour\").count().orderBy(\"order_hour\")\n",
    "    return orders_per_hour\n",
    "\n",
    "orders_per_hour_df = calculate_orders_per_hour(delivery_order_df)\n",
    "\n",
    "# Show the result in a table\n",
    "orders_per_hour_df.show()\n",
    "\n",
    "# Convert to Pandas for plotting\n",
    "orders_per_hour_pd = orders_per_hour_df.toPandas()\n",
    "\n",
    "# Plot a bar chart\n",
    "import matplotlib.pyplot as plt\n",
    "plt.figure(figsize=(10, 6))\n",
    "plt.bar(orders_per_hour_pd[\"order_hour\"], orders_per_hour_pd[\"count\"], color=\"blue\")\n",
    "plt.xlabel(\"Hour of the Day\")\n",
    "plt.ylabel(\"Number of Orders\")\n",
    "plt.title(\"Number of Orders Per Hour\")\n",
    "plt.xticks(range(0, 24))\n",
    "plt.grid(axis=\"y\", linestyle=\"--\", alpha=0.7)\n",
    "plt.show()\n"
   ]
  },
  {
   "cell_type": "markdown",
   "metadata": {},
   "source": [
    "Assuming here the business hours are 8:00am to 12:00pm."
   ]
  },
  {
   "cell_type": "markdown",
   "metadata": {},
   "source": [
    "2.2.3 Join the delivery_order with geolocation data frame, calculate the distance between a restaurant and the delivery location, and store the distance in a new column named delivery_distance. (hint: You may need to install an additional library like GeoPandas to calculate the distance between two points)."
   ]
  },
  {
   "cell_type": "code",
   "execution_count": 13,
   "metadata": {},
   "outputs": [
    {
     "name": "stdout",
     "output_type": "stream",
     "text": [
      "Requirement already satisfied: geopandas[all] in /opt/conda/lib/python3.10/site-packages (1.0.1)\n",
      "Requirement already satisfied: numpy>=1.22 in /opt/conda/lib/python3.10/site-packages (from geopandas[all]) (1.26.0)\n",
      "Requirement already satisfied: pyogrio>=0.7.2 in /opt/conda/lib/python3.10/site-packages (from geopandas[all]) (0.10.0)\n",
      "Requirement already satisfied: packaging in /opt/conda/lib/python3.10/site-packages (from geopandas[all]) (23.2)\n",
      "Requirement already satisfied: pandas>=1.4.0 in /opt/conda/lib/python3.10/site-packages (from geopandas[all]) (2.1.3)\n",
      "Requirement already satisfied: pyproj>=3.3.0 in /opt/conda/lib/python3.10/site-packages (from geopandas[all]) (3.7.0)\n",
      "Requirement already satisfied: shapely>=2.0.0 in /opt/conda/lib/python3.10/site-packages (from geopandas[all]) (2.0.6)\n",
      "Requirement already satisfied: psycopg-binary>=3.1.0 in /opt/conda/lib/python3.10/site-packages (from geopandas[all]) (3.2.3)\n",
      "Requirement already satisfied: SQLAlchemy>=1.3 in /opt/conda/lib/python3.10/site-packages (from geopandas[all]) (2.0.23)\n",
      "Requirement already satisfied: geopy in /opt/conda/lib/python3.10/site-packages (from geopandas[all]) (2.4.1)\n",
      "Requirement already satisfied: matplotlib>=3.5.0 in /opt/conda/lib/python3.10/site-packages (from geopandas[all]) (3.8.2)\n",
      "Requirement already satisfied: mapclassify in /opt/conda/lib/python3.10/site-packages (from geopandas[all]) (2.8.1)\n",
      "Requirement already satisfied: xyzservices in /opt/conda/lib/python3.10/site-packages (from geopandas[all]) (2023.10.1)\n",
      "Requirement already satisfied: folium in /opt/conda/lib/python3.10/site-packages (from geopandas[all]) (0.19.4)\n",
      "Requirement already satisfied: GeoAlchemy2 in /opt/conda/lib/python3.10/site-packages (from geopandas[all]) (0.17.0)\n",
      "Requirement already satisfied: pyarrow>=8.0.0 in /opt/conda/lib/python3.10/site-packages (from geopandas[all]) (14.0.1)\n",
      "Requirement already satisfied: contourpy>=1.0.1 in /opt/conda/lib/python3.10/site-packages (from matplotlib>=3.5.0->geopandas[all]) (1.2.0)\n",
      "Requirement already satisfied: cycler>=0.10 in /opt/conda/lib/python3.10/site-packages (from matplotlib>=3.5.0->geopandas[all]) (0.12.1)\n",
      "Requirement already satisfied: fonttools>=4.22.0 in /opt/conda/lib/python3.10/site-packages (from matplotlib>=3.5.0->geopandas[all]) (4.45.0)\n",
      "Requirement already satisfied: kiwisolver>=1.3.1 in /opt/conda/lib/python3.10/site-packages (from matplotlib>=3.5.0->geopandas[all]) (1.4.5)\n",
      "Requirement already satisfied: pillow>=8 in /opt/conda/lib/python3.10/site-packages (from matplotlib>=3.5.0->geopandas[all]) (10.1.0)\n",
      "Requirement already satisfied: pyparsing>=2.3.1 in /opt/conda/lib/python3.10/site-packages (from matplotlib>=3.5.0->geopandas[all]) (3.1.1)\n",
      "Requirement already satisfied: python-dateutil>=2.7 in /opt/conda/lib/python3.10/site-packages (from matplotlib>=3.5.0->geopandas[all]) (2.8.2)\n",
      "Requirement already satisfied: pytz>=2020.1 in /opt/conda/lib/python3.10/site-packages (from pandas>=1.4.0->geopandas[all]) (2023.3.post1)\n",
      "Requirement already satisfied: tzdata>=2022.1 in /opt/conda/lib/python3.10/site-packages (from pandas>=1.4.0->geopandas[all]) (2023.3)\n",
      "Requirement already satisfied: certifi in /opt/conda/lib/python3.10/site-packages (from pyogrio>=0.7.2->geopandas[all]) (2023.11.17)\n",
      "Requirement already satisfied: typing-extensions>=4.2.0 in /opt/conda/lib/python3.10/site-packages (from SQLAlchemy>=1.3->geopandas[all]) (4.8.0)\n",
      "Requirement already satisfied: greenlet!=0.4.17 in /opt/conda/lib/python3.10/site-packages (from SQLAlchemy>=1.3->geopandas[all]) (3.0.1)\n",
      "Requirement already satisfied: branca>=0.6.0 in /opt/conda/lib/python3.10/site-packages (from folium->geopandas[all]) (0.8.1)\n",
      "Requirement already satisfied: jinja2>=2.9 in /opt/conda/lib/python3.10/site-packages (from folium->geopandas[all]) (3.1.2)\n",
      "Requirement already satisfied: requests in /opt/conda/lib/python3.10/site-packages (from folium->geopandas[all]) (2.31.0)\n",
      "Requirement already satisfied: geographiclib<3,>=1.52 in /opt/conda/lib/python3.10/site-packages (from geopy->geopandas[all]) (2.0)\n",
      "Requirement already satisfied: networkx>=2.7 in /opt/conda/lib/python3.10/site-packages (from mapclassify->geopandas[all]) (3.2.1)\n",
      "Requirement already satisfied: scikit-learn>=1.0 in /opt/conda/lib/python3.10/site-packages (from mapclassify->geopandas[all]) (1.3.2)\n",
      "Requirement already satisfied: scipy>=1.8 in /opt/conda/lib/python3.10/site-packages (from mapclassify->geopandas[all]) (1.11.3)\n",
      "Requirement already satisfied: MarkupSafe>=2.0 in /opt/conda/lib/python3.10/site-packages (from jinja2>=2.9->folium->geopandas[all]) (2.1.3)\n",
      "Requirement already satisfied: six>=1.5 in /opt/conda/lib/python3.10/site-packages (from python-dateutil>=2.7->matplotlib>=3.5.0->geopandas[all]) (1.16.0)\n",
      "Requirement already satisfied: joblib>=1.1.1 in /opt/conda/lib/python3.10/site-packages (from scikit-learn>=1.0->mapclassify->geopandas[all]) (1.3.2)\n",
      "Requirement already satisfied: threadpoolctl>=2.0.0 in /opt/conda/lib/python3.10/site-packages (from scikit-learn>=1.0->mapclassify->geopandas[all]) (3.2.0)\n",
      "Requirement already satisfied: charset-normalizer<4,>=2 in /opt/conda/lib/python3.10/site-packages (from requests->folium->geopandas[all]) (3.3.2)\n",
      "Requirement already satisfied: idna<4,>=2.5 in /opt/conda/lib/python3.10/site-packages (from requests->folium->geopandas[all]) (3.4)\n",
      "Requirement already satisfied: urllib3<3,>=1.21.1 in /opt/conda/lib/python3.10/site-packages (from requests->folium->geopandas[all]) (2.1.0)\n"
     ]
    }
   ],
   "source": [
    "!pip install geopandas[all]"
   ]
  },
  {
   "cell_type": "code",
   "execution_count": 14,
   "metadata": {},
   "outputs": [
    {
     "name": "stderr",
     "output_type": "stream",
     "text": [
      "/opt/conda/lib/python3.10/site-packages/pyspark/sql/pandas/conversion.py:485: FutureWarning: is_datetime64tz_dtype is deprecated and will be removed in a future version. Check `isinstance(dtype, pd.DatetimeTZDtype)` instead.\n",
      "  if should_localize and is_datetime64tz_dtype(s.dtype) and s.dt.tz is not None:\n"
     ]
    },
    {
     "name": "stdout",
     "output_type": "stream",
     "text": [
      "+--------+------------------------------------+------------------------------------+-------------------+\n",
      "|order_id|restaurant_geoid                    |delivery_geoid                      |delivery_distance  |\n",
      "+--------+------------------------------------+------------------------------------+-------------------+\n",
      "|0x1ec7  |13ecba7d-6322-4875-a125-2b6f2460a8ce|744b5795-a105-41e3-9745-695aca9d7d61|0.04243007567584951|\n",
      "|0x5c6   |13ecba7d-6322-4875-a125-2b6f2460a8ce|744b5795-a105-41e3-9745-695aca9d7d61|0.04243007567584951|\n",
      "|0x8183  |13ecba7d-6322-4875-a125-2b6f2460a8ce|744b5795-a105-41e3-9745-695aca9d7d61|0.04243007567584951|\n",
      "|0x1232  |13ecba7d-6322-4875-a125-2b6f2460a8ce|744b5795-a105-41e3-9745-695aca9d7d61|0.04243007567584951|\n",
      "|0x4f42  |13ecba7d-6322-4875-a125-2b6f2460a8ce|744b5795-a105-41e3-9745-695aca9d7d61|0.04243007567584951|\n",
      "|0x7861  |13ecba7d-6322-4875-a125-2b6f2460a8ce|744b5795-a105-41e3-9745-695aca9d7d61|0.04243007567584951|\n",
      "|0xb069  |13ecba7d-6322-4875-a125-2b6f2460a8ce|744b5795-a105-41e3-9745-695aca9d7d61|0.04243007567584951|\n",
      "|0x8380  |13ecba7d-6322-4875-a125-2b6f2460a8ce|744b5795-a105-41e3-9745-695aca9d7d61|0.04243007567584951|\n",
      "|0x7fd1  |13ecba7d-6322-4875-a125-2b6f2460a8ce|744b5795-a105-41e3-9745-695aca9d7d61|0.04243007567584951|\n",
      "|0x3656  |13ecba7d-6322-4875-a125-2b6f2460a8ce|744b5795-a105-41e3-9745-695aca9d7d61|0.04243007567584951|\n",
      "|0x5a99  |13ecba7d-6322-4875-a125-2b6f2460a8ce|744b5795-a105-41e3-9745-695aca9d7d61|0.04243007567584951|\n",
      "|0x5399  |13ecba7d-6322-4875-a125-2b6f2460a8ce|744b5795-a105-41e3-9745-695aca9d7d61|0.04243007567584951|\n",
      "|0x115d  |13ecba7d-6322-4875-a125-2b6f2460a8ce|10a181b4-d3cc-4d3f-9c62-272bbaa7a03d|0.18385062239522765|\n",
      "|0x7333  |13ecba7d-6322-4875-a125-2b6f2460a8ce|10a181b4-d3cc-4d3f-9c62-272bbaa7a03d|0.18385062239522765|\n",
      "|0x1701  |13ecba7d-6322-4875-a125-2b6f2460a8ce|10a181b4-d3cc-4d3f-9c62-272bbaa7a03d|0.18385062239522765|\n",
      "|0x7c8d  |13ecba7d-6322-4875-a125-2b6f2460a8ce|10a181b4-d3cc-4d3f-9c62-272bbaa7a03d|0.18385062239522765|\n",
      "|0x88e4  |13ecba7d-6322-4875-a125-2b6f2460a8ce|10a181b4-d3cc-4d3f-9c62-272bbaa7a03d|0.18385062239522765|\n",
      "|0x1ddf  |13ecba7d-6322-4875-a125-2b6f2460a8ce|10a181b4-d3cc-4d3f-9c62-272bbaa7a03d|0.18385062239522765|\n",
      "|0x59ca  |13ecba7d-6322-4875-a125-2b6f2460a8ce|10a181b4-d3cc-4d3f-9c62-272bbaa7a03d|0.18385062239522765|\n",
      "|0x81da  |13ecba7d-6322-4875-a125-2b6f2460a8ce|10a181b4-d3cc-4d3f-9c62-272bbaa7a03d|0.18385062239522765|\n",
      "+--------+------------------------------------+------------------------------------+-------------------+\n",
      "only showing top 20 rows\n",
      "\n"
     ]
    }
   ],
   "source": [
    "import pandas as pd\n",
    "import geopandas as gpd\n",
    "from shapely.geometry import Point\n",
    "from pyspark.sql import SparkSession\n",
    "from pyspark.sql.types import StructType, StructField, StringType, FloatType\n",
    "\n",
    "def calculate_delivery_distance(delivery_order_df, geolocation_df):\n",
    "    # Convert Spark DataFrames to Pandas DataFrames\n",
    "    delivery_order_pd = delivery_order_df.toPandas()\n",
    "    geolocation_pd = geolocation_df.toPandas()\n",
    "    \n",
    "    # Merge geolocation data for restaurant and delivery points\n",
    "    merged_df = delivery_order_pd \\\n",
    "        .merge(geolocation_pd.rename(columns={\"geoid\": \"restaurant_geoid\", \n",
    "                                               \"latitude\": \"restaurant_lat\", \n",
    "                                               \"longitude\": \"restaurant_lon\"}), \n",
    "               on=\"restaurant_geoid\", how=\"inner\") \\\n",
    "        .merge(geolocation_pd.rename(columns={\"geoid\": \"delivery_geoid\", \n",
    "                                               \"latitude\": \"delivery_lat\", \n",
    "                                               \"longitude\": \"delivery_lon\"}), \n",
    "               on=\"delivery_geoid\", how=\"inner\")\n",
    "    \n",
    "    # Create GeoPandas GeoDataFrames for restaurants and delivery locations\n",
    "    merged_df[\"restaurant_geometry\"] = merged_df.apply(\n",
    "        lambda row: Point(row[\"restaurant_lon\"], row[\"restaurant_lat\"]), axis=1\n",
    "    )\n",
    "    merged_df[\"delivery_geometry\"] = merged_df.apply(\n",
    "        lambda row: Point(row[\"delivery_lon\"], row[\"delivery_lat\"]), axis=1\n",
    "    )\n",
    "    \n",
    "    # Calculate distances (Euclidean in degree units, not CRS-transformed)\n",
    "    merged_df[\"delivery_distance\"] = merged_df.apply(\n",
    "        lambda row: row[\"restaurant_geometry\"].distance(row[\"delivery_geometry\"]), axis=1\n",
    "    )\n",
    "    \n",
    "    # Drop geometry columns to avoid Spark compatibility issues\n",
    "    merged_df = merged_df.drop(columns=[\"restaurant_geometry\", \"delivery_geometry\"])\n",
    "    \n",
    "    # Return the updated DataFrame\n",
    "    return merged_df\n",
    "\n",
    "# Apply the function\n",
    "delivery_order_with_distance = calculate_delivery_distance(delivery_order_df, geolocation_df)\n",
    "\n",
    "# Convert the result back to Spark DataFrame\n",
    "delivery_order_with_distance_spark = spark.createDataFrame(delivery_order_with_distance)\n",
    "\n",
    "# Show the result\n",
    "delivery_order_with_distance_spark.select(\"order_id\", \"restaurant_geoid\", \"delivery_geoid\", \"delivery_distance\").show(truncate=False)\n"
   ]
  },
  {
   "cell_type": "markdown",
   "metadata": {},
   "source": [
    "2.2.4 Using the data from 3, find the top 10 drivers travelling the longest distance."
   ]
  },
  {
   "cell_type": "code",
   "execution_count": 15,
   "metadata": {},
   "outputs": [
    {
     "name": "stdout",
     "output_type": "stream",
     "text": [
      "+------------------+------------------+\n",
      "|delivery_person_id|total_distance    |\n",
      "+------------------+------------------+\n",
      "|COIMBRES08DEL03   |469.5380801415355 |\n",
      "|BHPRES15DEL02     |371.27854573899936|\n",
      "|RANCHIRES09DEL01  |357.87741528642783|\n",
      "|MUMRES08DEL02     |344.9692984538354 |\n",
      "|MUMRES20DEL01     |343.5584753291104 |\n",
      "|COIMBRES14DEL03   |336.9943013238874 |\n",
      "|DEHRES19DEL01     |336.12426882310075|\n",
      "|DEHRES13DEL02     |335.90335284027316|\n",
      "|CHENRES16DEL02    |331.5502335217211 |\n",
      "|CHENRES04DEL01    |329.6882177879918 |\n",
      "+------------------+------------------+\n",
      "\n"
     ]
    }
   ],
   "source": [
    "from pyspark.sql.functions import col, sum\n",
    "\n",
    "# Find the top 10 drivers traveling the longest distance\n",
    "top_10_drivers = delivery_order_with_distance_spark.groupBy(\"delivery_person_id\") \\\n",
    "    .agg(sum(\"delivery_distance\").alias(\"total_distance\")) \\\n",
    "    .orderBy(col(\"total_distance\").desc()) \\\n",
    "    .limit(10)\n",
    "\n",
    "# Show the result\n",
    "top_10_drivers.show(truncate=False)\n"
   ]
  },
  {
   "cell_type": "markdown",
   "metadata": {},
   "source": [
    "2.2.5 For each type of order, plot a histogram of meal preparation time. The plot can be done with multiple legends or sub-plots. (note: you can decide your bin size)."
   ]
  },
  {
   "cell_type": "code",
   "execution_count": 42,
   "metadata": {},
   "outputs": [
    {
     "data": {
      "image/png": "[encoded data removed]",
      "text/plain": [
       "<Figure size 1200x800 with 1 Axes>"
      ]
     },
     "metadata": {},
     "output_type": "display_data"
    }
   ],
   "source": [
    "import matplotlib.pyplot as plt\n",
    "import pandas as pd\n",
    "import numpy as np\n",
    "\n",
    "# Convert the Spark DataFrame to Pandas DataFrame\n",
    "data_pd = delivery_order_with_distance_spark.select(\"type_of_order\", \"time_taken\").toPandas()\n",
    "\n",
    "# Convert `time_taken` from string format (e.g., \"(min) 15\") to numeric values\n",
    "data_pd[\"time_taken\"] = data_pd[\"time_taken\"].str.replace(\"(min)\", \"\", regex=False).str.strip().astype(float)\n",
    "\n",
    "# Group the data by `type_of_order`\n",
    "unique_order_types = data_pd[\"type_of_order\"].unique()\n",
    "\n",
    "# Create bins for the histogram\n",
    "bins = np.linspace(data_pd[\"time_taken\"].min(), data_pd[\"time_taken\"].max(), 20)\n",
    "\n",
    "# Plot histograms side-by-side\n",
    "plt.figure(figsize=(12, 8))\n",
    "width = 0.2  # Width of each bar in the histogram\n",
    "\n",
    "for i, order_type in enumerate(unique_order_types):\n",
    "    subset = data_pd[data_pd[\"type_of_order\"] == order_type]\n",
    "    # Calculate histogram values\n",
    "    hist, edges = np.histogram(subset[\"time_taken\"], bins=bins)\n",
    "    # Shift the bins for side-by-side display\n",
    "    plt.bar(edges[:-1] + i * width, hist, width=width, label=order_type, align='center')\n",
    "\n",
    "# Add plot details\n",
    "plt.title(\"Side-by-Side Histogram of Meal Preparation Time by Type of Order\")\n",
    "plt.xlabel(\"Meal Preparation Time (minutes)\")\n",
    "plt.ylabel(\"Frequency\")\n",
    "plt.legend(title=\"Type of Order\")\n",
    "plt.grid()\n",
    "plt.show()\n"
   ]
  },
  {
   "cell_type": "markdown",
   "metadata": {},
   "source": [
    "2.2.6 (Open Question) Explore the dataset and use a delivery person’s rating as a performance indicator. Is a lower rating usually correlated to a longer delivery time? What might be the contributing factors to the low rate of drivers? Please include one plot and discussion based on your observation."
   ]
  },
  {
   "cell_type": "code",
   "execution_count": 17,
   "metadata": {},
   "outputs": [
    {
     "data": {
      "image/png": "[encoded data removed]",
      "text/plain": [
       "<Figure size 1000x600 with 1 Axes>"
      ]
     },
     "metadata": {},
     "output_type": "display_data"
    }
   ],
   "source": [
    "import seaborn as sns\n",
    "import matplotlib.pyplot as plt\n",
    "\n",
    "# Merge the delivery person ratings with the delivery order data\n",
    "merged_data = delivery_order_with_distance_spark.join(\n",
    "    delivery_person_df,\n",
    "    delivery_order_with_distance_spark.delivery_person_id == delivery_person_df.person_id,\n",
    "    how=\"inner\"\n",
    ").select(\n",
    "    \"delivery_person_id\", \"rating\", \"time_taken\"\n",
    ")\n",
    "\n",
    "# Convert to Pandas DataFrame for analysis\n",
    "merged_data_pd = merged_data.toPandas()\n",
    "\n",
    "# Clean and preprocess data\n",
    "merged_data_pd[\"time_taken\"] = (\n",
    "    merged_data_pd[\"time_taken\"]\n",
    "    .str.replace(\"(min)\", \"\")\n",
    "    .str.strip()\n",
    "    .astype(float)\n",
    ")\n",
    "\n",
    "# Group by ratings and calculate average delivery times\n",
    "rating_delivery_time = merged_data_pd.groupby(\"rating\")[\"time_taken\"].mean().reset_index()\n",
    "\n",
    "# Plotting the relationship\n",
    "plt.figure(figsize=(10, 6))\n",
    "sns.scatterplot(data=rating_delivery_time, x=\"rating\", y=\"time_taken\", s=100)\n",
    "plt.title(\"Relationship between Driver Rating and Average Delivery Time\")\n",
    "plt.xlabel(\"Driver Rating\")\n",
    "plt.ylabel(\"Average Delivery Time (minutes)\")\n",
    "plt.grid()\n",
    "plt.show()\n"
   ]
  },
  {
   "cell_type": "markdown",
   "metadata": {},
   "source": [
    "Discussion: \n",
    "The scatter plot reveals a negative correlation between driver ratings and average delivery times. Lower ratings are associated with longer delivery times, while higher ratings are linked to shorter delivery times.\n",
    "Drivers with ratings close to 2.5 or 3.0 tend to have the longest delivery times, indicating potential issues with their performance, such as delays or inefficiency.\n",
    "Ratings above 4.5 show a consistent trend of shorter delivery times, suggesting that higher-rated drivers perform deliveries more efficiently.\n",
    "Factors contributing to lower ratings might include poor route management, lack of punctuality, or inadequate customer communication.\n",
    "External factors like traffic congestion, weather conditions, or vehicle maintenance could also impact delivery times and, subsequently, ratings.\n",
    "Further analysis could explore correlations with other variables, such as traffic data or time of day, to gain deeper insights into the contributing factors."
   ]
  },
  {
   "cell_type": "markdown",
   "metadata": {},
   "source": [
    "### Part 3 RDDs vs DataFrame vs Spark SQL (25%) <a class=\"anchor\" name=\"part-3\"></a>\n",
    "Implement the following queries using RDDs, DataFrame in SparkSQL separately. Log the  time taken for each query in each approach using the “%%time” built-in magic command in Jupyter Notebook and discuss the performance difference between these 3 approaches."
   ]
  },
  {
   "cell_type": "markdown",
   "metadata": {},
   "source": [
    "#### Complex Query: <strong>Calculate the time taken on the road (defined as the total time taken minus restaurants’ order preparation time, i.e., total time - (ready_ts - order_ts)).    \n",
    "For each road_traffic_condition, using a 10-minute bucket size of time on the road(e.g. 0-10, 10-20, 20-30, etc.), show the percentage of each bucket.  \n",
    "(note: You can reuse the loaded data/variables from part 1&2.)  \n",
    "(hint: You may create intermediate RDD/dataframes for this query.)  \n",
    "</strong>"
   ]
  },
  {
   "cell_type": "markdown",
   "metadata": {},
   "source": [
    "#### 3.1. RDD Implementation"
   ]
  },
  {
   "cell_type": "code",
   "execution_count": 18,
   "metadata": {},
   "outputs": [
    {
     "name": "stdout",
     "output_type": "stream",
     "text": [
      "Requirement already satisfied: ipython in /opt/conda/lib/python3.10/site-packages (8.17.2)\n",
      "Requirement already satisfied: decorator in /opt/conda/lib/python3.10/site-packages (from ipython) (5.1.1)\n",
      "Requirement already satisfied: jedi>=0.16 in /opt/conda/lib/python3.10/site-packages (from ipython) (0.19.1)\n",
      "Requirement already satisfied: matplotlib-inline in /opt/conda/lib/python3.10/site-packages (from ipython) (0.1.6)\n",
      "Requirement already satisfied: prompt-toolkit!=3.0.37,<3.1.0,>=3.0.30 in /opt/conda/lib/python3.10/site-packages (from ipython) (3.0.41)\n",
      "Requirement already satisfied: pygments>=2.4.0 in /opt/conda/lib/python3.10/site-packages (from ipython) (2.17.1)\n",
      "Requirement already satisfied: stack-data in /opt/conda/lib/python3.10/site-packages (from ipython) (0.6.2)\n",
      "Requirement already satisfied: traitlets>=5 in /opt/conda/lib/python3.10/site-packages (from ipython) (5.13.0)\n",
      "Requirement already satisfied: exceptiongroup in /opt/conda/lib/python3.10/site-packages (from ipython) (1.1.3)\n",
      "Requirement already satisfied: pexpect>4.3 in /opt/conda/lib/python3.10/site-packages (from ipython) (4.8.0)\n",
      "Requirement already satisfied: parso<0.9.0,>=0.8.3 in /opt/conda/lib/python3.10/site-packages (from jedi>=0.16->ipython) (0.8.3)\n",
      "Requirement already satisfied: ptyprocess>=0.5 in /opt/conda/lib/python3.10/site-packages (from pexpect>4.3->ipython) (0.7.0)\n",
      "Requirement already satisfied: wcwidth in /opt/conda/lib/python3.10/site-packages (from prompt-toolkit!=3.0.37,<3.1.0,>=3.0.30->ipython) (0.2.10)\n",
      "Requirement already satisfied: executing>=1.2.0 in /opt/conda/lib/python3.10/site-packages (from stack-data->ipython) (2.0.1)\n",
      "Requirement already satisfied: asttokens>=2.1.0 in /opt/conda/lib/python3.10/site-packages (from stack-data->ipython) (2.4.1)\n",
      "Requirement already satisfied: pure-eval in /opt/conda/lib/python3.10/site-packages (from stack-data->ipython) (0.2.2)\n",
      "Requirement already satisfied: six>=1.12.0 in /opt/conda/lib/python3.10/site-packages (from asttokens>=2.1.0->stack-data->ipython) (1.16.0)\n",
      "Note: you may need to restart the kernel to use updated packages.\n"
     ]
    }
   ],
   "source": [
    "pip install ipython\n"
   ]
  },
  {
   "cell_type": "code",
   "execution_count": 23,
   "metadata": {},
   "outputs": [
    {
     "name": "stdout",
     "output_type": "stream",
     "text": [
      "Total valid records after filtering: 43031\n",
      "Traffic Condition: High, Time Bucket: 0-10, Percentage: 17.37%\n",
      "Traffic Condition: High, Time Bucket: 10-20, Percentage: 42.52%\n",
      "Traffic Condition: High, Time Bucket: 20-30, Percentage: 31.68%\n",
      "Traffic Condition: High, Time Bucket: 30-40, Percentage: 6.79%\n",
      "Traffic Condition: High, Time Bucket: 40-50, Percentage: 1.63%\n",
      "Traffic Condition: Jam, Time Bucket: 0-10, Percentage: 13.41%\n",
      "Traffic Condition: Jam, Time Bucket: 10-20, Percentage: 30.50%\n",
      "Traffic Condition: Jam, Time Bucket: 20-30, Percentage: 32.61%\n",
      "Traffic Condition: Jam, Time Bucket: 30-40, Percentage: 19.19%\n",
      "Traffic Condition: Jam, Time Bucket: 40-50, Percentage: 4.29%\n",
      "Traffic Condition: Low, Time Bucket: 0-10, Percentage: 40.17%\n",
      "Traffic Condition: Low, Time Bucket: 10-20, Percentage: 44.40%\n",
      "Traffic Condition: Low, Time Bucket: 20-30, Percentage: 13.21%\n",
      "Traffic Condition: Low, Time Bucket: 30-40, Percentage: 2.22%\n",
      "Traffic Condition: Medium, Time Bucket: 0-10, Percentage: 21.74%\n",
      "Traffic Condition: Medium, Time Bucket: 10-20, Percentage: 39.27%\n",
      "Traffic Condition: Medium, Time Bucket: 20-30, Percentage: 29.36%\n",
      "Traffic Condition: Medium, Time Bucket: 30-40, Percentage: 8.92%\n",
      "Traffic Condition: Medium, Time Bucket: 40-50, Percentage: 0.71%\n",
      "CPU times: user 31 ms, sys: 0 ns, total: 31 ms\n",
      "Wall time: 1.38 s\n"
     ]
    }
   ],
   "source": [
    "%%time\n",
    "from pyspark import SparkContext, SparkConf\n",
    "from collections import Counter\n",
    "import re\n",
    "\n",
    "# Helper function to check if a string is numeric\n",
    "def is_numeric(value):\n",
    "    try:\n",
    "        float(value)\n",
    "        return True\n",
    "    except ValueError:\n",
    "        return False\n",
    "\n",
    "# Helper function to clean and parse a row\n",
    "def parse_row(row):\n",
    "    # Split the row by commas and strip quotes/whitespace\n",
    "    cols = [col.strip().strip('\"') for col in row.split(\",\")]\n",
    "    # Extract numeric value from `time_taken` if present\n",
    "    time_taken_match = re.search(r\"\\d+\", cols[8]) if len(cols) > 8 else None\n",
    "    time_taken = float(time_taken_match.group()) if time_taken_match else None\n",
    "    return cols, time_taken\n",
    "\n",
    "# Retrieve the existing SparkContext or create one if it doesn't exist\n",
    "conf = SparkConf().setAppName(\"TimeOnRoadAnalysis\").setMaster(\"local\")\n",
    "sc = SparkContext.getOrCreate(conf=conf)\n",
    "\n",
    "# Path to your CSV file\n",
    "file_path = \"delivery_order.csv\"\n",
    "\n",
    "# Load the CSV file into an RDD\n",
    "delivery_order_rdd = sc.textFile(file_path)\n",
    "\n",
    "# Skip the header row\n",
    "header = delivery_order_rdd.first()\n",
    "delivery_order_rdd = delivery_order_rdd.filter(lambda row: row != header)\n",
    "\n",
    "# Parse rows and filter valid records\n",
    "valid_rows_rdd = delivery_order_rdd.map(parse_row).filter(\n",
    "    lambda row: (\n",
    "        len(row[0]) > 8  # Ensure enough columns\n",
    "        and is_numeric(row[0][2])  # Check order_ts\n",
    "        and is_numeric(row[0][3])  # Check ready_ts\n",
    "        and row[1] is not None  # Check extracted time_taken\n",
    "        and 0 <= row[1] <= 180  # Validate time_taken (0-180 minutes)\n",
    "        and float(row[0][3]) > float(row[0][2])  # Validate timestamps\n",
    "    )\n",
    ")\n",
    "\n",
    "print(\"Total valid records after filtering:\", valid_rows_rdd.count())\n",
    "\n",
    "# Function to calculate time on road and bucketize\n",
    "def calculate_time_on_road_rdd(rdd):\n",
    "    # Calculate time on the road\n",
    "    time_on_road_rdd = rdd.map(\n",
    "        lambda row: (\n",
    "            row[0][5],  # road_traffic_condition\n",
    "            row[1] - (float(row[0][3]) - float(row[0][2])) / 60  # Convert seconds to minutes\n",
    "        )\n",
    "    )\n",
    "    \n",
    "    # Filter out invalid rows (e.g., where time_on_road is negative or too large)\n",
    "    time_on_road_rdd = time_on_road_rdd.filter(lambda x: 0 <= x[1] <= 180)\n",
    "    \n",
    "    # Bucketize time on the road into 10-minute intervals\n",
    "    bucketized_rdd = time_on_road_rdd.map(\n",
    "        lambda x: (\n",
    "            x[0],  # road_traffic_condition\n",
    "            f\"{int(x[1] // 10) * 10}-{int(x[1] // 10) * 10 + 10}\"  # Bucket\n",
    "        )\n",
    "    )\n",
    "    \n",
    "    # Count occurrences of each bucket for each road_traffic_condition\n",
    "    bucket_counts = bucketized_rdd.countByValue()\n",
    "    \n",
    "    # Aggregate and calculate percentages\n",
    "    total_counts_per_condition = Counter({k[0]: 0 for k in bucket_counts.keys()})\n",
    "    for key, count in bucket_counts.items():\n",
    "        total_counts_per_condition[key[0]] += count\n",
    "    percentages = {\n",
    "        (condition, bucket): (count / total_counts_per_condition[condition]) * 100\n",
    "        for (condition, bucket), count in bucket_counts.items()\n",
    "    }\n",
    "    return percentages\n",
    "\n",
    "# Calculate the time on the road and bucket percentages using RDD\n",
    "percentages_rdd = calculate_time_on_road_rdd(valid_rows_rdd)\n",
    "\n",
    "# Display the results\n",
    "for (condition, bucket), percentage in sorted(percentages_rdd.items()):\n",
    "    print(f\"Traffic Condition: {condition}, Time Bucket: {bucket}, Percentage: {percentage:.2f}%\")\n"
   ]
  },
  {
   "cell_type": "markdown",
   "metadata": {},
   "source": [
    "#### 3.2. DataFrame Implementation"
   ]
  },
  {
   "cell_type": "code",
   "execution_count": 28,
   "metadata": {},
   "outputs": [
    {
     "name": "stdout",
     "output_type": "stream",
     "text": [
      "+--------------+-----------+------------------+\n",
      "|road_condition|time_bucket|percentage        |\n",
      "+--------------+-----------+------------------+\n",
      "|High          |0-10       |17.368670137245623|\n",
      "|High          |10-20      |42.522479886417415|\n",
      "|High          |20-30      |31.68480832938949 |\n",
      "|High          |30-40      |6.7912920018930425|\n",
      "|High          |40-50      |1.6327496450544252|\n",
      "|Jam           |0-10       |13.411592076302275|\n",
      "|Jam           |10-20      |30.498899486427   |\n",
      "|Jam           |20-30      |32.61188554658841 |\n",
      "|Jam           |30-40      |19.18561995597946 |\n",
      "|Jam           |40-50      |4.292002934702861 |\n",
      "|Low           |0-10       |40.17144546260715 |\n",
      "|Low           |10-20      |44.39846290274904 |\n",
      "|Low           |20-30      |13.205734555128585|\n",
      "|Low           |30-40      |2.224357079515223 |\n",
      "|Medium        |0-10       |21.742453190676347|\n",
      "|Medium        |10-20      |39.27206725257929 |\n",
      "|Medium        |20-30      |29.35613297669087 |\n",
      "|Medium        |30-40      |8.92243026366068  |\n",
      "|Medium        |40-50      |0.7069163163928162|\n",
      "+--------------+-----------+------------------+\n",
      "\n",
      "CPU times: user 26.4 ms, sys: 15.8 ms, total: 42.3 ms\n",
      "Wall time: 1.65 s\n"
     ]
    }
   ],
   "source": [
    "%%time\n",
    "\n",
    "from pyspark.sql import SparkSession\n",
    "from pyspark.sql.functions import col, when, expr, regexp_extract, sum as spark_sum, count, floor\n",
    "from pyspark.sql.types import FloatType\n",
    "\n",
    "# Initialize SparkSession\n",
    "spark = SparkSession.builder.appName(\"TimeOnRoadAnalysis\").master(\"local\").getOrCreate()\n",
    "\n",
    "# Path to your CSV file\n",
    "file_path = \"delivery_order.csv\"\n",
    "\n",
    "# Load the CSV file into a DataFrame\n",
    "delivery_order_df = spark.read.csv(file_path, header=True, inferSchema=True)\n",
    "\n",
    "# Extract numeric value from `time_taken` and convert to minutes\n",
    "delivery_order_df = delivery_order_df.withColumn(\n",
    "    \"time_taken_minutes\",\n",
    "    regexp_extract(col(\"time_taken\"), r\"(\\d+)\", 1).cast(FloatType())\n",
    ")\n",
    "\n",
    "# Calculate the time on the road\n",
    "delivery_order_df = delivery_order_df.withColumn(\n",
    "    \"time_on_road\",\n",
    "    col(\"time_taken_minutes\") - (col(\"ready_ts\") - col(\"order_ts\")) / 60\n",
    ")\n",
    "\n",
    "# Filter out invalid rows where `time_on_road` is null, negative, or unrealistic (e.g., > 300 minutes)\n",
    "valid_delivery_df = delivery_order_df.filter(\n",
    "    col(\"time_on_road\").isNotNull() & \n",
    "    (col(\"time_on_road\") >= 0) & \n",
    "    (col(\"time_on_road\") <= 300)  # Assuming a reasonable upper limit for time_on_road\n",
    ")\n",
    "\n",
    "# Bucketize time on the road into 10-minute intervals\n",
    "valid_delivery_df = valid_delivery_df.withColumn(\n",
    "    \"time_bucket\",\n",
    "    expr(\"concat(floor(time_on_road / 10) * 10, '-', (floor(time_on_road / 10) * 10) + 10)\")\n",
    ")\n",
    "\n",
    "# Calculate the total count per `road_condition`\n",
    "total_counts_df = valid_delivery_df.groupBy(\"road_condition\").agg(count(\"*\").alias(\"total_count\"))\n",
    "\n",
    "# Count occurrences of each bucket for each `road_condition`\n",
    "bucket_counts_df = valid_delivery_df.groupBy(\"road_condition\", \"time_bucket\").agg(count(\"*\").alias(\"bucket_count\"))\n",
    "\n",
    "# Join with the total counts to calculate percentages\n",
    "result_df = bucket_counts_df.join(total_counts_df, \"road_condition\").withColumn(\n",
    "    \"percentage\",\n",
    "    (col(\"bucket_count\") / col(\"total_count\")) * 100\n",
    ").select(\"road_condition\", \"time_bucket\", \"percentage\")\n",
    "\n",
    "# Show the results\n",
    "result_df.orderBy(\"road_condition\", \"time_bucket\").show(truncate=False)\n"
   ]
  },
  {
   "cell_type": "markdown",
   "metadata": {},
   "source": [
    "#### 3.3. Spark SQL Implementation"
   ]
  },
  {
   "cell_type": "code",
   "execution_count": 29,
   "metadata": {},
   "outputs": [
    {
     "name": "stdout",
     "output_type": "stream",
     "text": [
      "+--------------+-----------+------------+----------+\n",
      "|road_condition|time_bucket|bucket_count|percentage|\n",
      "+--------------+-----------+------------+----------+\n",
      "|High          |0-10       |734         |17.37     |\n",
      "|High          |10-20      |1797        |42.52     |\n",
      "|High          |20-30      |1339        |31.68     |\n",
      "|High          |30-40      |287         |6.79      |\n",
      "|High          |40-50      |69          |1.63      |\n",
      "|Jam           |0-10       |1828        |13.41     |\n",
      "|Jam           |10-20      |4157        |30.50     |\n",
      "|Jam           |20-30      |4445        |32.61     |\n",
      "|Jam           |30-40      |2615        |19.19     |\n",
      "|Jam           |40-50      |585         |4.29      |\n",
      "|Low           |0-10       |5436        |40.17     |\n",
      "|Low           |10-20      |6008        |44.40     |\n",
      "|Low           |20-30      |1787        |13.21     |\n",
      "|Low           |30-40      |301         |2.22      |\n",
      "|Medium        |0-10       |2276        |21.74     |\n",
      "|Medium        |10-20      |4111        |39.27     |\n",
      "|Medium        |20-30      |3073        |29.36     |\n",
      "|Medium        |30-40      |934         |8.92      |\n",
      "|Medium        |40-50      |74          |0.71      |\n",
      "+--------------+-----------+------------+----------+\n",
      "\n",
      "CPU times: user 0 ns, sys: 16.8 ms, total: 16.8 ms\n",
      "Wall time: 1.57 s\n"
     ]
    }
   ],
   "source": [
    "%%time\n",
    "from pyspark.sql import SparkSession\n",
    "from pyspark.sql.functions import expr, col, regexp_extract, count, floor, concat, round\n",
    "from pyspark.sql.types import FloatType\n",
    "\n",
    "# Initialize SparkSession\n",
    "spark = SparkSession.builder.appName(\"TimeOnRoadAnalysis\").master(\"local\").getOrCreate()\n",
    "\n",
    "# Path to your CSV file\n",
    "file_path = \"delivery_order.csv\"\n",
    "\n",
    "# Load the CSV file into a DataFrame\n",
    "delivery_order_df = spark.read.csv(file_path, header=True, inferSchema=True)\n",
    "\n",
    "# Extract numeric value from `time_taken` and convert to minutes\n",
    "delivery_order_df = delivery_order_df.withColumn(\n",
    "    \"time_taken_minutes\",\n",
    "    regexp_extract(col(\"time_taken\"), r\"(\\d+)\", 1).cast(FloatType())\n",
    ")\n",
    "\n",
    "# Calculate the time on the road\n",
    "delivery_order_df = delivery_order_df.withColumn(\n",
    "    \"time_on_road\",\n",
    "    col(\"time_taken_minutes\") - (col(\"ready_ts\") - col(\"order_ts\")) / 60\n",
    ")\n",
    "\n",
    "# Filter out invalid rows where `time_on_road` is null, negative, or unrealistic (e.g., > 300 minutes)\n",
    "valid_delivery_df = delivery_order_df.filter(\n",
    "    col(\"time_on_road\").isNotNull() & \n",
    "    (col(\"time_on_road\") >= 0) & \n",
    "    (col(\"time_on_road\") <= 300)  # Assuming a reasonable upper limit for time_on_road\n",
    ")\n",
    "\n",
    "# Register the DataFrame as a temporary SQL table\n",
    "valid_delivery_df.createOrReplaceTempView(\"delivery_data\")\n",
    "\n",
    "# Write and execute the SQL query\n",
    "query = \"\"\"\n",
    "SELECT\n",
    "    road_condition,\n",
    "    CONCAT(FLOOR(time_on_road / 10) * 10, '-', FLOOR(time_on_road / 10) * 10 + 10) AS time_bucket,\n",
    "    COUNT(*) AS bucket_count,\n",
    "    ROUND((COUNT(*) * 100.0) / SUM(COUNT(*)) OVER (PARTITION BY road_condition), 2) AS percentage\n",
    "FROM delivery_data\n",
    "GROUP BY road_condition, FLOOR(time_on_road / 10)\n",
    "ORDER BY road_condition, time_bucket\n",
    "\"\"\"\n",
    "\n",
    "result_df = spark.sql(query)\n",
    "\n",
    "# Show the results\n",
    "result_df.show(truncate=False)\n"
   ]
  },
  {
   "cell_type": "markdown",
   "metadata": {},
   "source": [
    "### 3.4 Which one is the easiest to implement in your opinion? Log the time taken for each query, and observe the query execution time, among RDD, DataFrame, SparkSQL, which is the fastest and why? Please include proper reference. (Maximum 500 words.)"
   ]
  },
  {
   "cell_type": "markdown",
   "metadata": {},
   "source": [
    "Fastest: Spark SQL is the fastest because it leverages Catalyst optimization to produce highly efficient query execution plans.\n",
    "Slowest: DataFrame operations are slower in this case due to metadata handling and optimization overhead, which scales poorly for iterative or complex transformations.\n",
    "RDD: Although RDDs are lightweight, they lack optimization, resulting in slower performance for large-scale data processing.\n",
    "\n",
    "\n",
    "RDDs:\n",
    "\n",
    "RDDs provide a low-level API and allow detailed control over transformations and actions. However, implementing the query using RDDs requires several custom map and filter operations, manual bucketization, and explicit calculations for percentages.\n",
    "Writing this logic is verbose and prone to errors, especially when handling complex datasets or multiple transformations.\n",
    "Debugging RDD operations can also be challenging as the API lacks rich introspection capabilities.\n",
    "Ease of Implementation: Low\n",
    "\n",
    "\n",
    "DataFrames:\n",
    "\n",
    "DataFrames provide a higher-level abstraction and are easier to use than RDDs. Using DataFrame APIs, we can perform filtering, aggregations, and calculations with expressive and concise syntax.\n",
    "The inclusion of built-in functions like groupBy, agg, and withColumn reduces boilerplate code and makes the implementation cleaner and less error-prone.\n",
    "While more user-friendly than RDDs, handling intermediate transformations and managing large DataFrame chains can still add complexity.\n",
    "Ease of Implementation: Moderate\n",
    "\n",
    "\n",
    "Spark SQL:\n",
    "\n",
    "Spark SQL offers the most intuitive and user-friendly approach for implementing the query. Using SQL-like syntax, we can directly express the query logic, including filtering, grouping, and percentage calculations, without needing to chain multiple transformations.\n",
    "The SQL approach is ideal for users familiar with database systems, as it abstracts away the complexity of the underlying operations.\n",
    "Ease of Implementation: High\n",
    "\n",
    "WHY?\n",
    "\n",
    "Spark SQL emerges as the fastest approach because:\n",
    "It leverages the Catalyst optimizer for efficient query planning and execution.\n",
    "The SQL syntax simplifies operations, avoiding excessive transformations, and allows Spark to optimize the query holistically.\n",
    "The declarative nature of SQL allows Spark to focus on execution efficiency rather than user-defined transformations.\n",
    "\n",
    "Reference:\n",
    "Zaharia, M., Chowdhury, M., Das, T., et al. (2012). Resilient Distributed Datasets: A Fault-Tolerant Abstraction for In-Memory Cluster Computing. USENIX.\n",
    "https://www.usenix.org/system/files/conference/nsdi12/nsdi12-final138.pdf"
   ]
  },
  {
   "cell_type": "markdown",
   "metadata": {},
   "source": [
    "### Some ideas on the comparison\n",
    "\n",
    "Armbrust, M., Huai, Y., Liang, C., Xin, R., & Zaharia, M. (2015). Deep Dive into Spark SQL’s Catalyst Optimizer. Retrieved September 30, 2017, from https://databricks.com/blog/2015/04/13/deep-dive-into-spark-sqls-catalyst-optimizer.html\n",
    "\n",
    "Damji, J. (2016). A Tale of Three Apache Spark APIs: RDDs, DataFrames, and Datasets. Retrieved September 28, 2017, from https://databricks.com/blog/2016/07/14/a-tale-of-three-apache-spark-apis-rdds-dataframes-and-datasets.html\n",
    "\n",
    "Data Flair (2017a). Apache Spark RDD vs DataFrame vs DataSet. Retrieved September 28, 2017, from http://data-flair.training/blogs/apache-spark-rdd-vs-dataframe-vs-dataset\n",
    "\n",
    "Prakash, C. (2016). Apache Spark: RDD vs Dataframe vs Dataset. Retrieved September 28, 2017, from http://why-not-learn-something.blogspot.com.au/2016/07/apache-spark-rdd-vs-dataframe-vs-dataset.html\n",
    "\n",
    "Xin, R., & Rosen, J. (2015). Project Tungsten: Bringing Apache Spark Closer to Bare Metal. Retrieved September 30, 2017, from https://databricks.com/blog/2015/04/28/project-tungsten-bringing-spark-closer-to-bare-metal.html"
   ]
  }
 ],
 "metadata": {
  "kernelspec": {
   "display_name": "Python 3 (ipykernel)",
   "language": "python",
   "name": "python3"
  },
  "language_info": {
   "codemirror_mode": {
    "name": "ipython",
    "version": 3
   },
   "file_extension": ".py",
   "mimetype": "text/x-python",
   "name": "python",
   "nbconvert_exporter": "python",
   "pygments_lexer": "ipython3",
   "version": "3.10.13"
  }
 },
 "nbformat": 4,
 "nbformat_minor": 4
}
